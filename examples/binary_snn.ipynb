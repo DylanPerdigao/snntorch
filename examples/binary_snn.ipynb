{
 "nbformat": 4,
 "nbformat_minor": 0,
 "metadata": {
  "colab": {
   "name": "Untitled2.ipynb",
   "provenance": [],
   "collapsed_sections": [],
   "toc_visible": true,
   "authorship_tag": "ABX9TyOhiWCsmgIaUxJvh2T+QleM",
   "include_colab_link": true
  },
  "kernelspec": {
   "name": "python3",
   "display_name": "Python 3"
  },
  "accelerator": "GPU",
  "widgets": {
   "application/vnd.jupyter.widget-state+json": {
    "a74874d11374428ca22a3b989f551eb2": {
     "model_module": "@jupyter-widgets/controls",
     "model_name": "HBoxModel",
     "state": {
      "_view_name": "HBoxView",
      "_dom_classes": [],
      "_model_name": "HBoxModel",
      "_view_module": "@jupyter-widgets/controls",
      "_model_module_version": "1.5.0",
      "_view_count": null,
      "_view_module_version": "1.5.0",
      "box_style": "",
      "layout": "IPY_MODEL_fb8ec726d579405891cc868d78d0f0c5",
      "_model_module": "@jupyter-widgets/controls",
      "children": [
       "IPY_MODEL_2b2dca92c5e547c380236054f6e4a472",
       "IPY_MODEL_98f04739832f4ba28bf43b3a81bbd63c"
      ]
     }
    },
    "fb8ec726d579405891cc868d78d0f0c5": {
     "model_module": "@jupyter-widgets/base",
     "model_name": "LayoutModel",
     "state": {
      "_view_name": "LayoutView",
      "grid_template_rows": null,
      "right": null,
      "justify_content": null,
      "_view_module": "@jupyter-widgets/base",
      "overflow": null,
      "_model_module_version": "1.2.0",
      "_view_count": null,
      "flex_flow": null,
      "width": null,
      "min_width": null,
      "border": null,
      "align_items": null,
      "bottom": null,
      "_model_module": "@jupyter-widgets/base",
      "top": null,
      "grid_column": null,
      "overflow_y": null,
      "overflow_x": null,
      "grid_auto_flow": null,
      "grid_area": null,
      "grid_template_columns": null,
      "flex": null,
      "_model_name": "LayoutModel",
      "justify_items": null,
      "grid_row": null,
      "max_height": null,
      "align_content": null,
      "visibility": null,
      "align_self": null,
      "height": null,
      "min_height": null,
      "padding": null,
      "grid_auto_rows": null,
      "grid_gap": null,
      "max_width": null,
      "order": null,
      "_view_module_version": "1.2.0",
      "grid_template_areas": null,
      "object_position": null,
      "object_fit": null,
      "grid_auto_columns": null,
      "margin": null,
      "display": null,
      "left": null
     }
    },
    "2b2dca92c5e547c380236054f6e4a472": {
     "model_module": "@jupyter-widgets/controls",
     "model_name": "FloatProgressModel",
     "state": {
      "_view_name": "ProgressView",
      "style": "IPY_MODEL_16645c923afc41b18d05f41f70f64ae6",
      "_dom_classes": [],
      "description": "",
      "_model_name": "FloatProgressModel",
      "bar_style": "info",
      "max": 1,
      "_view_module": "@jupyter-widgets/controls",
      "_model_module_version": "1.5.0",
      "value": 1,
      "_view_count": null,
      "_view_module_version": "1.5.0",
      "orientation": "horizontal",
      "min": 0,
      "description_tooltip": null,
      "_model_module": "@jupyter-widgets/controls",
      "layout": "IPY_MODEL_dc2d52efee294bb2943805cacaef733c"
     }
    },
    "98f04739832f4ba28bf43b3a81bbd63c": {
     "model_module": "@jupyter-widgets/controls",
     "model_name": "HTMLModel",
     "state": {
      "_view_name": "HTMLView",
      "style": "IPY_MODEL_810656c7eb144ebfab627154d6392d21",
      "_dom_classes": [],
      "description": "",
      "_model_name": "HTMLModel",
      "placeholder": "​",
      "_view_module": "@jupyter-widgets/controls",
      "_model_module_version": "1.5.0",
      "value": " 9920512/? [00:20&lt;00:00, 1473320.24it/s]",
      "_view_count": null,
      "_view_module_version": "1.5.0",
      "description_tooltip": null,
      "_model_module": "@jupyter-widgets/controls",
      "layout": "IPY_MODEL_53e75d07d35746f5a7a08c74886e57e3"
     }
    },
    "16645c923afc41b18d05f41f70f64ae6": {
     "model_module": "@jupyter-widgets/controls",
     "model_name": "ProgressStyleModel",
     "state": {
      "_view_name": "StyleView",
      "_model_name": "ProgressStyleModel",
      "description_width": "initial",
      "_view_module": "@jupyter-widgets/base",
      "_model_module_version": "1.5.0",
      "_view_count": null,
      "_view_module_version": "1.2.0",
      "bar_color": null,
      "_model_module": "@jupyter-widgets/controls"
     }
    },
    "dc2d52efee294bb2943805cacaef733c": {
     "model_module": "@jupyter-widgets/base",
     "model_name": "LayoutModel",
     "state": {
      "_view_name": "LayoutView",
      "grid_template_rows": null,
      "right": null,
      "justify_content": null,
      "_view_module": "@jupyter-widgets/base",
      "overflow": null,
      "_model_module_version": "1.2.0",
      "_view_count": null,
      "flex_flow": null,
      "width": null,
      "min_width": null,
      "border": null,
      "align_items": null,
      "bottom": null,
      "_model_module": "@jupyter-widgets/base",
      "top": null,
      "grid_column": null,
      "overflow_y": null,
      "overflow_x": null,
      "grid_auto_flow": null,
      "grid_area": null,
      "grid_template_columns": null,
      "flex": null,
      "_model_name": "LayoutModel",
      "justify_items": null,
      "grid_row": null,
      "max_height": null,
      "align_content": null,
      "visibility": null,
      "align_self": null,
      "height": null,
      "min_height": null,
      "padding": null,
      "grid_auto_rows": null,
      "grid_gap": null,
      "max_width": null,
      "order": null,
      "_view_module_version": "1.2.0",
      "grid_template_areas": null,
      "object_position": null,
      "object_fit": null,
      "grid_auto_columns": null,
      "margin": null,
      "display": null,
      "left": null
     }
    },
    "810656c7eb144ebfab627154d6392d21": {
     "model_module": "@jupyter-widgets/controls",
     "model_name": "DescriptionStyleModel",
     "state": {
      "_view_name": "StyleView",
      "_model_name": "DescriptionStyleModel",
      "description_width": "",
      "_view_module": "@jupyter-widgets/base",
      "_model_module_version": "1.5.0",
      "_view_count": null,
      "_view_module_version": "1.2.0",
      "_model_module": "@jupyter-widgets/controls"
     }
    },
    "53e75d07d35746f5a7a08c74886e57e3": {
     "model_module": "@jupyter-widgets/base",
     "model_name": "LayoutModel",
     "state": {
      "_view_name": "LayoutView",
      "grid_template_rows": null,
      "right": null,
      "justify_content": null,
      "_view_module": "@jupyter-widgets/base",
      "overflow": null,
      "_model_module_version": "1.2.0",
      "_view_count": null,
      "flex_flow": null,
      "width": null,
      "min_width": null,
      "border": null,
      "align_items": null,
      "bottom": null,
      "_model_module": "@jupyter-widgets/base",
      "top": null,
      "grid_column": null,
      "overflow_y": null,
      "overflow_x": null,
      "grid_auto_flow": null,
      "grid_area": null,
      "grid_template_columns": null,
      "flex": null,
      "_model_name": "LayoutModel",
      "justify_items": null,
      "grid_row": null,
      "max_height": null,
      "align_content": null,
      "visibility": null,
      "align_self": null,
      "height": null,
      "min_height": null,
      "padding": null,
      "grid_auto_rows": null,
      "grid_gap": null,
      "max_width": null,
      "order": null,
      "_view_module_version": "1.2.0",
      "grid_template_areas": null,
      "object_position": null,
      "object_fit": null,
      "grid_auto_columns": null,
      "margin": null,
      "display": null,
      "left": null
     }
    },
    "129efe38f8924010b52a9260c54ad48b": {
     "model_module": "@jupyter-widgets/controls",
     "model_name": "HBoxModel",
     "state": {
      "_view_name": "HBoxView",
      "_dom_classes": [],
      "_model_name": "HBoxModel",
      "_view_module": "@jupyter-widgets/controls",
      "_model_module_version": "1.5.0",
      "_view_count": null,
      "_view_module_version": "1.5.0",
      "box_style": "",
      "layout": "IPY_MODEL_0894c182bf7b44cfbf9bc6f0293eae66",
      "_model_module": "@jupyter-widgets/controls",
      "children": [
       "IPY_MODEL_90035cc0c9d048c4b5380c8798f22bbd",
       "IPY_MODEL_7e98c177f6d64505a78062b16d9afc23"
      ]
     }
    },
    "0894c182bf7b44cfbf9bc6f0293eae66": {
     "model_module": "@jupyter-widgets/base",
     "model_name": "LayoutModel",
     "state": {
      "_view_name": "LayoutView",
      "grid_template_rows": null,
      "right": null,
      "justify_content": null,
      "_view_module": "@jupyter-widgets/base",
      "overflow": null,
      "_model_module_version": "1.2.0",
      "_view_count": null,
      "flex_flow": null,
      "width": null,
      "min_width": null,
      "border": null,
      "align_items": null,
      "bottom": null,
      "_model_module": "@jupyter-widgets/base",
      "top": null,
      "grid_column": null,
      "overflow_y": null,
      "overflow_x": null,
      "grid_auto_flow": null,
      "grid_area": null,
      "grid_template_columns": null,
      "flex": null,
      "_model_name": "LayoutModel",
      "justify_items": null,
      "grid_row": null,
      "max_height": null,
      "align_content": null,
      "visibility": null,
      "align_self": null,
      "height": null,
      "min_height": null,
      "padding": null,
      "grid_auto_rows": null,
      "grid_gap": null,
      "max_width": null,
      "order": null,
      "_view_module_version": "1.2.0",
      "grid_template_areas": null,
      "object_position": null,
      "object_fit": null,
      "grid_auto_columns": null,
      "margin": null,
      "display": null,
      "left": null
     }
    },
    "90035cc0c9d048c4b5380c8798f22bbd": {
     "model_module": "@jupyter-widgets/controls",
     "model_name": "FloatProgressModel",
     "state": {
      "_view_name": "ProgressView",
      "style": "IPY_MODEL_1b9ea97f22e84e84a29b59212055a972",
      "_dom_classes": [],
      "description": "",
      "_model_name": "FloatProgressModel",
      "bar_style": "success",
      "max": 1,
      "_view_module": "@jupyter-widgets/controls",
      "_model_module_version": "1.5.0",
      "value": 1,
      "_view_count": null,
      "_view_module_version": "1.5.0",
      "orientation": "horizontal",
      "min": 0,
      "description_tooltip": null,
      "_model_module": "@jupyter-widgets/controls",
      "layout": "IPY_MODEL_613b76c43f2f47c5ac65e9f1f0bfffcf"
     }
    },
    "7e98c177f6d64505a78062b16d9afc23": {
     "model_module": "@jupyter-widgets/controls",
     "model_name": "HTMLModel",
     "state": {
      "_view_name": "HTMLView",
      "style": "IPY_MODEL_7cd6adeb348d4e7494ba5e1d7ad79938",
      "_dom_classes": [],
      "description": "",
      "_model_name": "HTMLModel",
      "placeholder": "​",
      "_view_module": "@jupyter-widgets/controls",
      "_model_module_version": "1.5.0",
      "value": " 32768/? [00:00&lt;00:00, 117827.31it/s]",
      "_view_count": null,
      "_view_module_version": "1.5.0",
      "description_tooltip": null,
      "_model_module": "@jupyter-widgets/controls",
      "layout": "IPY_MODEL_1e5a4d05c7fa49a1b4f85f1c7dbac890"
     }
    },
    "1b9ea97f22e84e84a29b59212055a972": {
     "model_module": "@jupyter-widgets/controls",
     "model_name": "ProgressStyleModel",
     "state": {
      "_view_name": "StyleView",
      "_model_name": "ProgressStyleModel",
      "description_width": "initial",
      "_view_module": "@jupyter-widgets/base",
      "_model_module_version": "1.5.0",
      "_view_count": null,
      "_view_module_version": "1.2.0",
      "bar_color": null,
      "_model_module": "@jupyter-widgets/controls"
     }
    },
    "613b76c43f2f47c5ac65e9f1f0bfffcf": {
     "model_module": "@jupyter-widgets/base",
     "model_name": "LayoutModel",
     "state": {
      "_view_name": "LayoutView",
      "grid_template_rows": null,
      "right": null,
      "justify_content": null,
      "_view_module": "@jupyter-widgets/base",
      "overflow": null,
      "_model_module_version": "1.2.0",
      "_view_count": null,
      "flex_flow": null,
      "width": null,
      "min_width": null,
      "border": null,
      "align_items": null,
      "bottom": null,
      "_model_module": "@jupyter-widgets/base",
      "top": null,
      "grid_column": null,
      "overflow_y": null,
      "overflow_x": null,
      "grid_auto_flow": null,
      "grid_area": null,
      "grid_template_columns": null,
      "flex": null,
      "_model_name": "LayoutModel",
      "justify_items": null,
      "grid_row": null,
      "max_height": null,
      "align_content": null,
      "visibility": null,
      "align_self": null,
      "height": null,
      "min_height": null,
      "padding": null,
      "grid_auto_rows": null,
      "grid_gap": null,
      "max_width": null,
      "order": null,
      "_view_module_version": "1.2.0",
      "grid_template_areas": null,
      "object_position": null,
      "object_fit": null,
      "grid_auto_columns": null,
      "margin": null,
      "display": null,
      "left": null
     }
    },
    "7cd6adeb348d4e7494ba5e1d7ad79938": {
     "model_module": "@jupyter-widgets/controls",
     "model_name": "DescriptionStyleModel",
     "state": {
      "_view_name": "StyleView",
      "_model_name": "DescriptionStyleModel",
      "description_width": "",
      "_view_module": "@jupyter-widgets/base",
      "_model_module_version": "1.5.0",
      "_view_count": null,
      "_view_module_version": "1.2.0",
      "_model_module": "@jupyter-widgets/controls"
     }
    },
    "1e5a4d05c7fa49a1b4f85f1c7dbac890": {
     "model_module": "@jupyter-widgets/base",
     "model_name": "LayoutModel",
     "state": {
      "_view_name": "LayoutView",
      "grid_template_rows": null,
      "right": null,
      "justify_content": null,
      "_view_module": "@jupyter-widgets/base",
      "overflow": null,
      "_model_module_version": "1.2.0",
      "_view_count": null,
      "flex_flow": null,
      "width": null,
      "min_width": null,
      "border": null,
      "align_items": null,
      "bottom": null,
      "_model_module": "@jupyter-widgets/base",
      "top": null,
      "grid_column": null,
      "overflow_y": null,
      "overflow_x": null,
      "grid_auto_flow": null,
      "grid_area": null,
      "grid_template_columns": null,
      "flex": null,
      "_model_name": "LayoutModel",
      "justify_items": null,
      "grid_row": null,
      "max_height": null,
      "align_content": null,
      "visibility": null,
      "align_self": null,
      "height": null,
      "min_height": null,
      "padding": null,
      "grid_auto_rows": null,
      "grid_gap": null,
      "max_width": null,
      "order": null,
      "_view_module_version": "1.2.0",
      "grid_template_areas": null,
      "object_position": null,
      "object_fit": null,
      "grid_auto_columns": null,
      "margin": null,
      "display": null,
      "left": null
     }
    },
    "1ff3372963f24935990baa2dfa8b222f": {
     "model_module": "@jupyter-widgets/controls",
     "model_name": "HBoxModel",
     "state": {
      "_view_name": "HBoxView",
      "_dom_classes": [],
      "_model_name": "HBoxModel",
      "_view_module": "@jupyter-widgets/controls",
      "_model_module_version": "1.5.0",
      "_view_count": null,
      "_view_module_version": "1.5.0",
      "box_style": "",
      "layout": "IPY_MODEL_c745ed9cf6484c898d411d5127906743",
      "_model_module": "@jupyter-widgets/controls",
      "children": [
       "IPY_MODEL_310ca88d87694ac7b20be4c958e94664",
       "IPY_MODEL_dd6d71c582f24ee29dd07d5094b8dc44"
      ]
     }
    },
    "c745ed9cf6484c898d411d5127906743": {
     "model_module": "@jupyter-widgets/base",
     "model_name": "LayoutModel",
     "state": {
      "_view_name": "LayoutView",
      "grid_template_rows": null,
      "right": null,
      "justify_content": null,
      "_view_module": "@jupyter-widgets/base",
      "overflow": null,
      "_model_module_version": "1.2.0",
      "_view_count": null,
      "flex_flow": null,
      "width": null,
      "min_width": null,
      "border": null,
      "align_items": null,
      "bottom": null,
      "_model_module": "@jupyter-widgets/base",
      "top": null,
      "grid_column": null,
      "overflow_y": null,
      "overflow_x": null,
      "grid_auto_flow": null,
      "grid_area": null,
      "grid_template_columns": null,
      "flex": null,
      "_model_name": "LayoutModel",
      "justify_items": null,
      "grid_row": null,
      "max_height": null,
      "align_content": null,
      "visibility": null,
      "align_self": null,
      "height": null,
      "min_height": null,
      "padding": null,
      "grid_auto_rows": null,
      "grid_gap": null,
      "max_width": null,
      "order": null,
      "_view_module_version": "1.2.0",
      "grid_template_areas": null,
      "object_position": null,
      "object_fit": null,
      "grid_auto_columns": null,
      "margin": null,
      "display": null,
      "left": null
     }
    },
    "310ca88d87694ac7b20be4c958e94664": {
     "model_module": "@jupyter-widgets/controls",
     "model_name": "FloatProgressModel",
     "state": {
      "_view_name": "ProgressView",
      "style": "IPY_MODEL_65662a51a2634068accb72c686210337",
      "_dom_classes": [],
      "description": "",
      "_model_name": "FloatProgressModel",
      "bar_style": "info",
      "max": 1,
      "_view_module": "@jupyter-widgets/controls",
      "_model_module_version": "1.5.0",
      "value": 1,
      "_view_count": null,
      "_view_module_version": "1.5.0",
      "orientation": "horizontal",
      "min": 0,
      "description_tooltip": null,
      "_model_module": "@jupyter-widgets/controls",
      "layout": "IPY_MODEL_87c913ffe0db439a9f88161bd3b311ba"
     }
    },
    "dd6d71c582f24ee29dd07d5094b8dc44": {
     "model_module": "@jupyter-widgets/controls",
     "model_name": "HTMLModel",
     "state": {
      "_view_name": "HTMLView",
      "style": "IPY_MODEL_625fdd121234428081b1c7984c3f637e",
      "_dom_classes": [],
      "description": "",
      "_model_name": "HTMLModel",
      "placeholder": "​",
      "_view_module": "@jupyter-widgets/controls",
      "_model_module_version": "1.5.0",
      "value": " 1654784/? [00:18&lt;00:00, 529212.93it/s]",
      "_view_count": null,
      "_view_module_version": "1.5.0",
      "description_tooltip": null,
      "_model_module": "@jupyter-widgets/controls",
      "layout": "IPY_MODEL_57aea4a3fa81456f89ef27e3ddf9259f"
     }
    },
    "65662a51a2634068accb72c686210337": {
     "model_module": "@jupyter-widgets/controls",
     "model_name": "ProgressStyleModel",
     "state": {
      "_view_name": "StyleView",
      "_model_name": "ProgressStyleModel",
      "description_width": "initial",
      "_view_module": "@jupyter-widgets/base",
      "_model_module_version": "1.5.0",
      "_view_count": null,
      "_view_module_version": "1.2.0",
      "bar_color": null,
      "_model_module": "@jupyter-widgets/controls"
     }
    },
    "87c913ffe0db439a9f88161bd3b311ba": {
     "model_module": "@jupyter-widgets/base",
     "model_name": "LayoutModel",
     "state": {
      "_view_name": "LayoutView",
      "grid_template_rows": null,
      "right": null,
      "justify_content": null,
      "_view_module": "@jupyter-widgets/base",
      "overflow": null,
      "_model_module_version": "1.2.0",
      "_view_count": null,
      "flex_flow": null,
      "width": null,
      "min_width": null,
      "border": null,
      "align_items": null,
      "bottom": null,
      "_model_module": "@jupyter-widgets/base",
      "top": null,
      "grid_column": null,
      "overflow_y": null,
      "overflow_x": null,
      "grid_auto_flow": null,
      "grid_area": null,
      "grid_template_columns": null,
      "flex": null,
      "_model_name": "LayoutModel",
      "justify_items": null,
      "grid_row": null,
      "max_height": null,
      "align_content": null,
      "visibility": null,
      "align_self": null,
      "height": null,
      "min_height": null,
      "padding": null,
      "grid_auto_rows": null,
      "grid_gap": null,
      "max_width": null,
      "order": null,
      "_view_module_version": "1.2.0",
      "grid_template_areas": null,
      "object_position": null,
      "object_fit": null,
      "grid_auto_columns": null,
      "margin": null,
      "display": null,
      "left": null
     }
    },
    "625fdd121234428081b1c7984c3f637e": {
     "model_module": "@jupyter-widgets/controls",
     "model_name": "DescriptionStyleModel",
     "state": {
      "_view_name": "StyleView",
      "_model_name": "DescriptionStyleModel",
      "description_width": "",
      "_view_module": "@jupyter-widgets/base",
      "_model_module_version": "1.5.0",
      "_view_count": null,
      "_view_module_version": "1.2.0",
      "_model_module": "@jupyter-widgets/controls"
     }
    },
    "57aea4a3fa81456f89ef27e3ddf9259f": {
     "model_module": "@jupyter-widgets/base",
     "model_name": "LayoutModel",
     "state": {
      "_view_name": "LayoutView",
      "grid_template_rows": null,
      "right": null,
      "justify_content": null,
      "_view_module": "@jupyter-widgets/base",
      "overflow": null,
      "_model_module_version": "1.2.0",
      "_view_count": null,
      "flex_flow": null,
      "width": null,
      "min_width": null,
      "border": null,
      "align_items": null,
      "bottom": null,
      "_model_module": "@jupyter-widgets/base",
      "top": null,
      "grid_column": null,
      "overflow_y": null,
      "overflow_x": null,
      "grid_auto_flow": null,
      "grid_area": null,
      "grid_template_columns": null,
      "flex": null,
      "_model_name": "LayoutModel",
      "justify_items": null,
      "grid_row": null,
      "max_height": null,
      "align_content": null,
      "visibility": null,
      "align_self": null,
      "height": null,
      "min_height": null,
      "padding": null,
      "grid_auto_rows": null,
      "grid_gap": null,
      "max_width": null,
      "order": null,
      "_view_module_version": "1.2.0",
      "grid_template_areas": null,
      "object_position": null,
      "object_fit": null,
      "grid_auto_columns": null,
      "margin": null,
      "display": null,
      "left": null
     }
    },
    "a43fda0f8c194ec4b5d4b10677fa5d79": {
     "model_module": "@jupyter-widgets/controls",
     "model_name": "HBoxModel",
     "state": {
      "_view_name": "HBoxView",
      "_dom_classes": [],
      "_model_name": "HBoxModel",
      "_view_module": "@jupyter-widgets/controls",
      "_model_module_version": "1.5.0",
      "_view_count": null,
      "_view_module_version": "1.5.0",
      "box_style": "",
      "layout": "IPY_MODEL_6023c13e3b084b0ea7c76b172cd2bc7a",
      "_model_module": "@jupyter-widgets/controls",
      "children": [
       "IPY_MODEL_f3279a1641ad41db916e56b092f0c5d1",
       "IPY_MODEL_8f105ff1aa4f4857a2a49e4e11f76022"
      ]
     }
    },
    "6023c13e3b084b0ea7c76b172cd2bc7a": {
     "model_module": "@jupyter-widgets/base",
     "model_name": "LayoutModel",
     "state": {
      "_view_name": "LayoutView",
      "grid_template_rows": null,
      "right": null,
      "justify_content": null,
      "_view_module": "@jupyter-widgets/base",
      "overflow": null,
      "_model_module_version": "1.2.0",
      "_view_count": null,
      "flex_flow": null,
      "width": null,
      "min_width": null,
      "border": null,
      "align_items": null,
      "bottom": null,
      "_model_module": "@jupyter-widgets/base",
      "top": null,
      "grid_column": null,
      "overflow_y": null,
      "overflow_x": null,
      "grid_auto_flow": null,
      "grid_area": null,
      "grid_template_columns": null,
      "flex": null,
      "_model_name": "LayoutModel",
      "justify_items": null,
      "grid_row": null,
      "max_height": null,
      "align_content": null,
      "visibility": null,
      "align_self": null,
      "height": null,
      "min_height": null,
      "padding": null,
      "grid_auto_rows": null,
      "grid_gap": null,
      "max_width": null,
      "order": null,
      "_view_module_version": "1.2.0",
      "grid_template_areas": null,
      "object_position": null,
      "object_fit": null,
      "grid_auto_columns": null,
      "margin": null,
      "display": null,
      "left": null
     }
    },
    "f3279a1641ad41db916e56b092f0c5d1": {
     "model_module": "@jupyter-widgets/controls",
     "model_name": "FloatProgressModel",
     "state": {
      "_view_name": "ProgressView",
      "style": "IPY_MODEL_6519a3f30d954066b46f252a064cd004",
      "_dom_classes": [],
      "description": "  0%",
      "_model_name": "FloatProgressModel",
      "bar_style": "info",
      "max": 1,
      "_view_module": "@jupyter-widgets/controls",
      "_model_module_version": "1.5.0",
      "value": 0,
      "_view_count": null,
      "_view_module_version": "1.5.0",
      "orientation": "horizontal",
      "min": 0,
      "description_tooltip": null,
      "_model_module": "@jupyter-widgets/controls",
      "layout": "IPY_MODEL_6679bdaf011646a297952f43019c1c98"
     }
    },
    "8f105ff1aa4f4857a2a49e4e11f76022": {
     "model_module": "@jupyter-widgets/controls",
     "model_name": "HTMLModel",
     "state": {
      "_view_name": "HTMLView",
      "style": "IPY_MODEL_082c7718e5f84b7c9da54f7deee487f1",
      "_dom_classes": [],
      "description": "",
      "_model_name": "HTMLModel",
      "placeholder": "​",
      "_view_module": "@jupyter-widgets/controls",
      "_model_module_version": "1.5.0",
      "value": " 0/4542 [00:00&lt;?, ?it/s]",
      "_view_count": null,
      "_view_module_version": "1.5.0",
      "description_tooltip": null,
      "_model_module": "@jupyter-widgets/controls",
      "layout": "IPY_MODEL_18bcb4931c4346609954d7a38e6e80cf"
     }
    },
    "6519a3f30d954066b46f252a064cd004": {
     "model_module": "@jupyter-widgets/controls",
     "model_name": "ProgressStyleModel",
     "state": {
      "_view_name": "StyleView",
      "_model_name": "ProgressStyleModel",
      "description_width": "initial",
      "_view_module": "@jupyter-widgets/base",
      "_model_module_version": "1.5.0",
      "_view_count": null,
      "_view_module_version": "1.2.0",
      "bar_color": null,
      "_model_module": "@jupyter-widgets/controls"
     }
    },
    "6679bdaf011646a297952f43019c1c98": {
     "model_module": "@jupyter-widgets/base",
     "model_name": "LayoutModel",
     "state": {
      "_view_name": "LayoutView",
      "grid_template_rows": null,
      "right": null,
      "justify_content": null,
      "_view_module": "@jupyter-widgets/base",
      "overflow": null,
      "_model_module_version": "1.2.0",
      "_view_count": null,
      "flex_flow": null,
      "width": null,
      "min_width": null,
      "border": null,
      "align_items": null,
      "bottom": null,
      "_model_module": "@jupyter-widgets/base",
      "top": null,
      "grid_column": null,
      "overflow_y": null,
      "overflow_x": null,
      "grid_auto_flow": null,
      "grid_area": null,
      "grid_template_columns": null,
      "flex": null,
      "_model_name": "LayoutModel",
      "justify_items": null,
      "grid_row": null,
      "max_height": null,
      "align_content": null,
      "visibility": null,
      "align_self": null,
      "height": null,
      "min_height": null,
      "padding": null,
      "grid_auto_rows": null,
      "grid_gap": null,
      "max_width": null,
      "order": null,
      "_view_module_version": "1.2.0",
      "grid_template_areas": null,
      "object_position": null,
      "object_fit": null,
      "grid_auto_columns": null,
      "margin": null,
      "display": null,
      "left": null
     }
    },
    "082c7718e5f84b7c9da54f7deee487f1": {
     "model_module": "@jupyter-widgets/controls",
     "model_name": "DescriptionStyleModel",
     "state": {
      "_view_name": "StyleView",
      "_model_name": "DescriptionStyleModel",
      "description_width": "",
      "_view_module": "@jupyter-widgets/base",
      "_model_module_version": "1.5.0",
      "_view_count": null,
      "_view_module_version": "1.2.0",
      "_model_module": "@jupyter-widgets/controls"
     }
    },
    "18bcb4931c4346609954d7a38e6e80cf": {
     "model_module": "@jupyter-widgets/base",
     "model_name": "LayoutModel",
     "state": {
      "_view_name": "LayoutView",
      "grid_template_rows": null,
      "right": null,
      "justify_content": null,
      "_view_module": "@jupyter-widgets/base",
      "overflow": null,
      "_model_module_version": "1.2.0",
      "_view_count": null,
      "flex_flow": null,
      "width": null,
      "min_width": null,
      "border": null,
      "align_items": null,
      "bottom": null,
      "_model_module": "@jupyter-widgets/base",
      "top": null,
      "grid_column": null,
      "overflow_y": null,
      "overflow_x": null,
      "grid_auto_flow": null,
      "grid_area": null,
      "grid_template_columns": null,
      "flex": null,
      "_model_name": "LayoutModel",
      "justify_items": null,
      "grid_row": null,
      "max_height": null,
      "align_content": null,
      "visibility": null,
      "align_self": null,
      "height": null,
      "min_height": null,
      "padding": null,
      "grid_auto_rows": null,
      "grid_gap": null,
      "max_width": null,
      "order": null,
      "_view_module_version": "1.2.0",
      "grid_template_areas": null,
      "object_position": null,
      "object_fit": null,
      "grid_auto_columns": null,
      "margin": null,
      "display": null,
      "left": null
     }
    }
   }
  }
 },
 "cells": [
  {
   "cell_type": "markdown",
   "metadata": {
    "id": "view-in-github",
    "colab_type": "text"
   },
   "source": [
    "<a href=\"https://colab.research.google.com/github/jeshraghian/snntorch/blob/binary_weights/examples/binary_snn.ipynb\" target=\"_parent\"><img src=\"https://colab.research.google.com/assets/colab-badge.svg\" alt=\"Open In Colab\"/></a>"
   ]
  },
  {
   "cell_type": "markdown",
   "metadata": {
    "id": "eOyd0FJMbWki"
   },
   "source": [
    "# **SNN with binary weights**\n"
   ]
  },
  {
   "cell_type": "markdown",
   "metadata": {
    "collapsed": false,
    "id": "S733HbldaB40"
   },
   "source": [
    "# Gradient-based Learning in Convolutional Spiking Neural Networks\n",
    "In this tutorial, we'll use a convolutional neural network (CNN) to classify the MNIST dataset.\n",
    "We will use the backpropagation through time (BPTT) algorithm to do so. This tutorial is largely the same as tutorial 2, just with a different network architecture to show how to integrate convolutions with snnTorch.\n",
    "\n",
    "If running in Google Colab:\n",
    "* Ensure you are connected to GPU by checking Runtime > Change runtime type > Hardware accelerator: GPU\n",
    "* Next, install the Test PyPi distribution of snnTorch by clicking into the following cell and pressing `Shift+Enter`."
   ]
  },
  {
   "cell_type": "code",
   "metadata": {
    "pycharm": {
     "name": "#%%\n"
    },
    "id": "YgGUk8EJaB41",
    "colab": {
     "base_uri": "https://localhost:8080/"
    },
    "outputId": "123ccc02-ae09-49b7-cb79-bfc5d341ddcc"
   },
   "source": [
    "# Install the test PyPi Distribution of snntorch\n",
    "!pip install -i https://test.pypi.org/simple/ snntorch\n",
    "# !pip uninstall snntorch\n",
    "# !pip install git+https://github.com/jeshraghian/snntorch.git@binary_weights#egg=snntorch"
   ],
   "execution_count": 2,
   "outputs": [
    {
     "output_type": "stream",
     "text": [
      "Looking in indexes: https://test.pypi.org/simple/\n",
      "Collecting snntorch\n",
      "  Downloading https://test-files.pythonhosted.org/packages/0a/4b/1fadcfc6be25d336d0e2a82c0e7bcebaeb029728a98594fe95ef2202bb0b/snntorch-0.0.7-py3-none-any.whl\n",
      "Installing collected packages: snntorch\n",
      "Successfully installed snntorch-0.0.7\n"
     ],
     "name": "stdout"
    }
   ]
  },
  {
   "cell_type": "markdown",
   "metadata": {
    "collapsed": false,
    "pycharm": {
     "name": "#%% md\n"
    },
    "id": "_UAKn7UoaB41"
   },
   "source": [
    "## 1. Setting up the Static MNIST Dataset\n",
    "### 1.1. Import packages and setup environment"
   ]
  },
  {
   "cell_type": "code",
   "metadata": {
    "pycharm": {
     "name": "#%%\n"
    },
    "id": "JGneJnSiaB42"
   },
   "source": [
    "import snntorch as snn\n",
    "import torch\n",
    "import torch.nn as nn\n",
    "import torch.nn.functional as F\n",
    "from torch.utils.data import DataLoader\n",
    "from torchvision import datasets, transforms\n",
    "import numpy as np\n",
    "import itertools\n",
    "import matplotlib.pyplot as plt"
   ],
   "execution_count": 3,
   "outputs": []
  },
  {
   "cell_type": "markdown",
   "metadata": {
    "collapsed": false,
    "id": "PWL3FQSSaB42"
   },
   "source": [
    "### 1.2 Define network and SNN parameters\n",
    "We will use a 2conv-2MaxPool-FCN architecture for a sequence of 25 time steps.\n",
    "\n",
    "* `alpha` is the decay rate of the synaptic current of a neuron\n",
    "* `beta` is the decay rate of the membrane potential of a neuron"
   ]
  },
  {
   "cell_type": "code",
   "metadata": {
    "pycharm": {
     "name": "#%%\n"
    },
    "id": "kvzf29tIaB42"
   },
   "source": [
    "# Network Architecture\n",
    "num_inputs = 28*28\n",
    "num_outputs = 10\n",
    "num_hidden = 1000\n",
    "# Training Parameters\n",
    "batch_size=128\n",
    "data_path='/data/mnist'\n",
    "\n",
    "# Temporal Dynamics\n",
    "num_steps = 25\n",
    "time_step = 1e-3\n",
    "# tau_mem = 6.5e-4\n",
    "# tau_syn = 5.5e-4\n",
    "# alpha = float(np.exp(-time_step/tau_syn))\n",
    "# beta = float(np.exp(-time_step/tau_mem))\n",
    "alpha = 0.85\n",
    "beta = 0.75\n",
    "\n",
    "dtype = torch.float\n",
    "device = torch.device(\"cuda\") if torch.cuda.is_available() else torch.device(\"cpu\")"
   ],
   "execution_count": 4,
   "outputs": []
  },
  {
   "cell_type": "markdown",
   "metadata": {
    "collapsed": false,
    "pycharm": {
     "name": "#%% md\n"
    },
    "id": "4_5wuLk0aB43"
   },
   "source": [
    "### 1.3 Download MNIST Dataset\n",
    "To see how to construct a validation set, refer to Tutorial 1."
   ]
  },
  {
   "cell_type": "code",
   "metadata": {
    "pycharm": {
     "name": "#%%\n"
    },
    "id": "WJO7iy-7aB43",
    "colab": {
     "base_uri": "https://localhost:8080/",
     "height": 386,
     "referenced_widgets": [
      "a74874d11374428ca22a3b989f551eb2",
      "fb8ec726d579405891cc868d78d0f0c5",
      "2b2dca92c5e547c380236054f6e4a472",
      "98f04739832f4ba28bf43b3a81bbd63c",
      "16645c923afc41b18d05f41f70f64ae6",
      "dc2d52efee294bb2943805cacaef733c",
      "810656c7eb144ebfab627154d6392d21",
      "53e75d07d35746f5a7a08c74886e57e3",
      "129efe38f8924010b52a9260c54ad48b",
      "0894c182bf7b44cfbf9bc6f0293eae66",
      "90035cc0c9d048c4b5380c8798f22bbd",
      "7e98c177f6d64505a78062b16d9afc23",
      "1b9ea97f22e84e84a29b59212055a972",
      "613b76c43f2f47c5ac65e9f1f0bfffcf",
      "7cd6adeb348d4e7494ba5e1d7ad79938",
      "1e5a4d05c7fa49a1b4f85f1c7dbac890",
      "1ff3372963f24935990baa2dfa8b222f",
      "c745ed9cf6484c898d411d5127906743",
      "310ca88d87694ac7b20be4c958e94664",
      "dd6d71c582f24ee29dd07d5094b8dc44",
      "65662a51a2634068accb72c686210337",
      "87c913ffe0db439a9f88161bd3b311ba",
      "625fdd121234428081b1c7984c3f637e",
      "57aea4a3fa81456f89ef27e3ddf9259f",
      "a43fda0f8c194ec4b5d4b10677fa5d79",
      "6023c13e3b084b0ea7c76b172cd2bc7a",
      "f3279a1641ad41db916e56b092f0c5d1",
      "8f105ff1aa4f4857a2a49e4e11f76022",
      "6519a3f30d954066b46f252a064cd004",
      "6679bdaf011646a297952f43019c1c98",
      "082c7718e5f84b7c9da54f7deee487f1",
      "18bcb4931c4346609954d7a38e6e80cf"
     ]
    },
    "outputId": "373936e1-8954-4c89-cc98-e0d1ff8901e3"
   },
   "source": [
    "# Define a transform\n",
    "transform = transforms.Compose([\n",
    "            transforms.Resize((28, 28)),\n",
    "            transforms.Grayscale(),\n",
    "            transforms.ToTensor(),\n",
    "            transforms.Normalize((0,), (1,))])\n",
    "\n",
    "mnist_train = datasets.MNIST(data_path, train=True, download=True, transform=transform)\n",
    "mnist_test = datasets.MNIST(data_path, train=False, download=True, transform=transform)"
   ],
   "execution_count": 5,
   "outputs": [
    {
     "output_type": "stream",
     "text": [
      "Downloading http://yann.lecun.com/exdb/mnist/train-images-idx3-ubyte.gz to /data/mnist/MNIST/raw/train-images-idx3-ubyte.gz\n"
     ],
     "name": "stdout"
    },
    {
     "output_type": "display_data",
     "data": {
      "application/vnd.jupyter.widget-view+json": {
       "model_id": "a74874d11374428ca22a3b989f551eb2",
       "version_minor": 0,
       "version_major": 2
      },
      "text/plain": [
       "HBox(children=(FloatProgress(value=1.0, bar_style='info', max=1.0), HTML(value='')))"
      ]
     },
     "metadata": {
      "tags": []
     }
    },
    {
     "output_type": "stream",
     "text": [
      "Extracting /data/mnist/MNIST/raw/train-images-idx3-ubyte.gz to /data/mnist/MNIST/raw\n",
      "Downloading http://yann.lecun.com/exdb/mnist/train-labels-idx1-ubyte.gz to /data/mnist/MNIST/raw/train-labels-idx1-ubyte.gz\n"
     ],
     "name": "stdout"
    },
    {
     "output_type": "display_data",
     "data": {
      "application/vnd.jupyter.widget-view+json": {
       "model_id": "129efe38f8924010b52a9260c54ad48b",
       "version_minor": 0,
       "version_major": 2
      },
      "text/plain": [
       "HBox(children=(FloatProgress(value=1.0, bar_style='info', max=1.0), HTML(value='')))"
      ]
     },
     "metadata": {
      "tags": []
     }
    },
    {
     "output_type": "stream",
     "text": [
      "Extracting /data/mnist/MNIST/raw/train-labels-idx1-ubyte.gz to /data/mnist/MNIST/raw\n",
      "Downloading http://yann.lecun.com/exdb/mnist/t10k-images-idx3-ubyte.gz to /data/mnist/MNIST/raw/t10k-images-idx3-ubyte.gz\n",
      "\n"
     ],
     "name": "stdout"
    },
    {
     "output_type": "display_data",
     "data": {
      "application/vnd.jupyter.widget-view+json": {
       "model_id": "1ff3372963f24935990baa2dfa8b222f",
       "version_minor": 0,
       "version_major": 2
      },
      "text/plain": [
       "HBox(children=(FloatProgress(value=1.0, bar_style='info', max=1.0), HTML(value='')))"
      ]
     },
     "metadata": {
      "tags": []
     }
    },
    {
     "output_type": "stream",
     "text": [
      "Extracting /data/mnist/MNIST/raw/t10k-images-idx3-ubyte.gz to /data/mnist/MNIST/raw\n",
      "Downloading http://yann.lecun.com/exdb/mnist/t10k-labels-idx1-ubyte.gz to /data/mnist/MNIST/raw/t10k-labels-idx1-ubyte.gz\n"
     ],
     "name": "stdout"
    },
    {
     "output_type": "display_data",
     "data": {
      "application/vnd.jupyter.widget-view+json": {
       "model_id": "a43fda0f8c194ec4b5d4b10677fa5d79",
       "version_minor": 0,
       "version_major": 2
      },
      "text/plain": [
       "HBox(children=(FloatProgress(value=1.0, bar_style='info', max=1.0), HTML(value='')))"
      ]
     },
     "metadata": {
      "tags": []
     }
    },
    {
     "output_type": "stream",
     "text": [
      "Extracting /data/mnist/MNIST/raw/t10k-labels-idx1-ubyte.gz to /data/mnist/MNIST/raw\n",
      "Processing...\n",
      "Done!\n"
     ],
     "name": "stdout"
    },
    {
     "output_type": "stream",
     "text": [
      "/usr/local/lib/python3.6/dist-packages/torchvision/datasets/mnist.py:480: UserWarning: The given NumPy array is not writeable, and PyTorch does not support non-writeable tensors. This means you can write to the underlying (supposedly non-writeable) NumPy array using the tensor. You may want to copy the array to protect its data or make it writeable before converting it to a tensor. This type of warning will be suppressed for the rest of this program. (Triggered internally at  /pytorch/torch/csrc/utils/tensor_numpy.cpp:141.)\n",
      "  return torch.from_numpy(parsed.astype(m[2], copy=False)).view(*s)\n"
     ],
     "name": "stderr"
    }
   ]
  },
  {
   "cell_type": "markdown",
   "metadata": {
    "collapsed": false,
    "pycharm": {
     "name": "#%% md\n"
    },
    "id": "6_guKA__aB44"
   },
   "source": [
    "### 1.4 Create DataLoaders"
   ]
  },
  {
   "cell_type": "code",
   "metadata": {
    "pycharm": {
     "name": "#%%\n"
    },
    "id": "cQzrUSKRaB44"
   },
   "source": [
    "train_loader = DataLoader(mnist_train, batch_size=batch_size, shuffle=True, drop_last=True)\n",
    "test_loader = DataLoader(mnist_test, batch_size=batch_size, shuffle=True, drop_last=True)"
   ],
   "execution_count": 6,
   "outputs": []
  },
  {
   "cell_type": "markdown",
   "metadata": {
    "collapsed": false,
    "pycharm": {
     "name": "#%% md\n"
    },
    "id": "jHBwr32UaB44"
   },
   "source": [
    "## 2. Define Network\n",
    "To define our network, we will import two functions from the `snntorch.neuron` module, which contains a series of neuron models and related functions.\n",
    "snnTorch treats neurons as activations with recurrent connections, so that it integrates smoothly with PyTorch's pre-existing layer functions.\n",
    "* `snntorch.neuron.LIF` is a simple Leaky Integrate and Fire (LIF) neuron. Specifically, it uses Stein's model which assumes instantaneous rise times for synaptic current and membrane potential.\n",
    "* `snntorch.neuron.FastSigmoidSurrogate` defines separate forward and backward functions. The forward function is a Heaviside step function for spike generation. The backward function is the derivative of a fast sigmoid function, to ensure continuous differentiability.\n",
    "FSS is mostly derived from:\n",
    "\n",
    ">Neftci, E. O., Mostafa, H., and Zenke, F. (2019) Surrogate Gradient Learning in Spiking Neural Networks. https://arxiv.org/abs/1901/09948\n",
    "\n",
    "`snn.neuron.slope` is a variable that defines the slope of the backward surrogate.\n",
    "TO-DO: Include visualisation."
   ]
  },
  {
   "cell_type": "code",
   "metadata": {
    "pycharm": {
     "name": "#%%\n"
    },
    "id": "2JKR_90daB45"
   },
   "source": [
    "# spike_grad = snn.FastSigmoidSurrogate.apply\n",
    "# snn.slope = 50"
   ],
   "execution_count": 7,
   "outputs": []
  },
  {
   "cell_type": "markdown",
   "metadata": {
    "collapsed": false,
    "pycharm": {
     "name": "#%% md\n"
    },
    "id": "LaXzsI6baB45"
   },
   "source": [
    "Now we can define our SNN. Defining an instance of `LIF` requires three arguments: 1) the surrogate spiking function, 2) $I_{syn}$ decay rate, $\\alpha$, and 3) $V_{mem}$ decay rate, $\\beta$.\n",
    "\n",
    "The LIF neuron is simply treated as a recurrent activation. It requires initialization of the post-synaptic spikes `spk1` and `spk2`, the synaptic current `syn1` and `syn2`, and the membrane potential `mem1` and `mem2`.\n",
    "\n",
    "We will use the final layer spikes and membrane for determining loss and accuracy, so we will record and return their histories in `spk3_rec` and `mem3_rec`.\n",
    "\n",
    "Keep in mind, the dataset we are using is just static MNIST. I.e., it is *not* time-varying.\n",
    "Therefore, we pass the same MNIST sample to the input at each time step.\n",
    "This is handled in the line `cur1 = F.max_pool2d(self.conv1(x), 2)`, where `x` is the same input over the whole for-loop."
   ]
  },
  {
   "cell_type": "markdown",
   "source": [
    "### Binarized Layer Modules\n",
    "``Binarize`` converts weights to {-1, 1}.\n",
    "Remove `.mul_(2).add_(1)` for {0, 1}."
   ],
   "metadata": {
    "collapsed": false,
    "pycharm": {
     "name": "#%% md\n"
    }
   }
  },
  {
   "cell_type": "code",
   "metadata": {
    "pycharm": {
     "name": "#%%\n"
    },
    "id": "blVwJakcaB46"
   },
   "source": [
    "import pdb\n",
    "import math\n",
    "from torch.autograd import Variable\n",
    "from torch.autograd import Function\n",
    "\n",
    "import numpy as np\n",
    "\n",
    "\n",
    "def Binarize(tensor,quant_mode='det'):\n",
    "    if quant_mode=='det':\n",
    "        return tensor.sign()\n",
    "    else:\n",
    "        return tensor.add_(1).div_(2).add_(torch.rand(tensor.size()).add(-0.5)).clamp_(0,1).round().mul_(2).add_(-1)\n",
    "\n",
    "\n",
    "class HingeLoss(nn.Module):\n",
    "    def __init__(self):\n",
    "        super(HingeLoss,self).__init__()\n",
    "        self.margin=1.0\n",
    "\n",
    "    def hinge_loss(self,input,target):\n",
    "            #import pdb; pdb.set_trace()\n",
    "            output=self.margin-input.mul(target)\n",
    "            output[output.le(0)]=0\n",
    "            return output.mean()\n",
    "\n",
    "    def forward(self, input, target):\n",
    "        return self.hinge_loss(input,target)\n",
    "\n",
    "class SqrtHingeLossFunction(Function):\n",
    "    def __init__(self):\n",
    "        super(SqrtHingeLossFunction,self).__init__()\n",
    "        self.margin=1.0\n",
    "\n",
    "    def forward(self, input, target):\n",
    "        output=self.margin-input.mul(target)\n",
    "        output[output.le(0)]=0\n",
    "        self.save_for_backward(input, target)\n",
    "        loss=output.mul(output).sum(0).sum(1).div(target.numel())\n",
    "        return loss\n",
    "\n",
    "    def backward(self,grad_output):\n",
    "       input, target = self.saved_tensors\n",
    "       output=self.margin-input.mul(target)\n",
    "       output[output.le(0)]=0\n",
    "       import pdb; pdb.set_trace()\n",
    "       grad_output.resize_as_(input).copy_(target).mul_(-2).mul_(output)\n",
    "       grad_output.mul_(output.ne(0).float())\n",
    "       grad_output.div_(input.numel())\n",
    "       return grad_output,grad_output\n",
    "\n",
    "def Quantize(tensor,quant_mode='det',  params=None, numBits=8):\n",
    "    tensor.clamp_(-2**(numBits-1),2**(numBits-1))\n",
    "    if quant_mode=='det':\n",
    "        tensor=tensor.mul(2**(numBits-1)).round().div(2**(numBits-1))\n",
    "    else:\n",
    "        tensor=tensor.mul(2**(numBits-1)).round().add(torch.rand(tensor.size()).add(-0.5)).div(2**(numBits-1))\n",
    "        quant_fixed(tensor, params)\n",
    "    return tensor\n",
    "\n",
    "# import torch.nn._functions as tnnf\n",
    "\n",
    "\n",
    "class BinarizeLinear(nn.Linear):\n",
    "\n",
    "    def __init__(self, *kargs, **kwargs):\n",
    "        super(BinarizeLinear, self).__init__(*kargs, **kwargs)\n",
    "\n",
    "    def forward(self, input):\n",
    "\n",
    "        if input.size(1) != 784:\n",
    "            input.data=Binarize(input.data)\n",
    "        if not hasattr(self.weight,'org'):\n",
    "            self.weight.org=self.weight.data.clone()\n",
    "        self.weight.data=Binarize(self.weight.org)\n",
    "        out = nn.functional.linear(input, self.weight)\n",
    "        if not self.bias is None:\n",
    "            self.bias.org=self.bias.data.clone()\n",
    "            out += self.bias.view(1, -1).expand_as(out)\n",
    "\n",
    "        return out\n",
    "\n",
    "class BinarizeConv2d(nn.Conv2d):\n",
    "\n",
    "    def __init__(self, *kargs, **kwargs):\n",
    "        super(BinarizeConv2d, self).__init__(*kargs, **kwargs)\n",
    "\n",
    "\n",
    "    def forward(self, input):\n",
    "        if input.size(1) != 3:\n",
    "            input.data = Binarize(input.data)\n",
    "        if not hasattr(self.weight,'org'):\n",
    "            self.weight.org=self.weight.data.clone()\n",
    "        self.weight.data=Binarize(self.weight.org)\n",
    "\n",
    "        out = nn.functional.conv2d(input, self.weight, None, self.stride,\n",
    "                                   self.padding, self.dilation, self.groups)\n",
    "\n",
    "        if not self.bias is None:\n",
    "            self.bias.org=self.bias.data.clone()\n",
    "            out += self.bias.view(1, -1, 1, 1).expand_as(out)\n",
    "\n",
    "        return out"
   ],
   "execution_count": 8,
   "outputs": []
  },
  {
   "cell_type": "markdown",
   "source": [
    "Network: Low precision forward pass, high precision backprop (Additional Mod in Optimization method)"
   ],
   "metadata": {
    "collapsed": false,
    "pycharm": {
     "name": "#%% md\n"
    }
   }
  },
  {
   "cell_type": "code",
   "execution_count": null,
   "outputs": [],
   "source": [
    "class Net(nn.Module):\n",
    "    def __init__(self):\n",
    "        super().__init__()\n",
    "\n",
    "    # initialize layers\n",
    "        # self.bn0 = nn.BatchNorm1d(784)\n",
    "        self.fc1 = BinarizeLinear(784, 1000)\n",
    "        self.lif1 = snn.Stein(alpha=alpha, beta=beta)\n",
    "\n",
    "        self.fc2 = BinarizeLinear(num_hidden, num_outputs)\n",
    "        self.lif2 = snn.Stein(alpha=alpha, beta=beta)\n",
    "\n",
    "    def forward(self, x):\n",
    "        spk1, syn1, mem1 = self.lif1.init_stein(batch_size, num_hidden)\n",
    "        spk2, syn2, mem2 = self.lif2.init_stein(batch_size, num_outputs)\n",
    "\n",
    "        spk2_rec = []\n",
    "        mem2_rec = []\n",
    "\n",
    "        for step in range(num_steps):\n",
    "            cur1 = self.fc1(x)\n",
    "            spk1, syn1, mem1 = self.lif1(cur1, syn1, mem1)\n",
    "            cur2 = self.fc2(spk1)\n",
    "            spk2, syn2, mem2 = self.lif2(cur2, syn2, mem2)\n",
    "\n",
    "            spk2_rec.append(spk2)\n",
    "            mem2_rec.append(mem2)\n",
    "\n",
    "        return torch.stack(spk2_rec, dim=0), torch.stack(mem2_rec, dim=0)\n",
    "\n",
    "net = Net().to(device)"
   ],
   "metadata": {
    "collapsed": false,
    "pycharm": {
     "name": "#%%\n"
    }
   }
  },
  {
   "cell_type": "markdown",
   "source": [
    "Old network (if using above net, don't run the following code block)"
   ],
   "metadata": {
    "collapsed": false,
    "pycharm": {
     "name": "#%% md\n"
    }
   }
  },
  {
   "cell_type": "code",
   "execution_count": null,
   "outputs": [],
   "source": [
    "def Binarize(tensor):\n",
    "    tensor[tensor > 0] = 1\n",
    "    tensor[tensor<=0] = 0\n",
    "    return tensor\n",
    "\n",
    "# class Net(nn.Module):\n",
    "#     def __init__(self):\n",
    "#         super().__init__()\n",
    "\n",
    "#     # initialize layers\n",
    "#         self.conv1 = nn.Conv2d(in_channels=1, out_channels=12, kernel_size=5, stride=1, padding=1, bias=False)\n",
    "#         self.lif1 = snn.Stein(alpha=alpha, beta=beta, spike_grad=spike_grad)\n",
    "#         self.conv2 = nn.Conv2d(in_channels=12, out_channels=64, kernel_size=5, stride=1, padding=1, bias=False)\n",
    "#         self.lif2 = snn.Stein(alpha=alpha, beta=beta, spike_grad=spike_grad)\n",
    "#         self.fc2 = nn.Linear(64*5*5, 10, bias= False)\n",
    "#         self.lif3 = snn.Stein(alpha=alpha, beta=beta, spike_grad=spike_grad)\n",
    "\n",
    "#     def forward(self, x):\n",
    "#         # Initialize LIF state variables and spike output tensors\n",
    "#         spk1, syn1, mem1 = self.lif1.init_stein(batch_size, 12, 13, 13)\n",
    "#         spk2, syn2, mem2 = self.lif1.init_stein(batch_size, 64, 5, 5)\n",
    "#         spk3, syn3, mem3 = self.lif2.init_stein(batch_size, 10)\n",
    "\n",
    "#         spk3_rec = []\n",
    "#         mem3_rec = []\n",
    "\n",
    "#         for step in range(num_steps):\n",
    "#             conv1_bin_weight = self.conv1.weight.data.clone()\n",
    "#             self.conv1.weight.data = Binarize(conv1_bin_weight)\n",
    "            \n",
    "#             cur1 = F.max_pool2d(self.conv1(x), 2)\n",
    "#             # cur1 = F.max_pool2d(F.conv2d(x, self.conv1.weight, bias=None, stride=1,\n",
    "#             #                        padding=1), 2)\n",
    "            \n",
    "#             spk1, syn1, mem1 = self.lif1(cur1, syn1, mem1)\n",
    "\n",
    "#             conv2_bin_weight = self.conv2.weight.data.clone()\n",
    "#             self.conv2.weight.data = Binarize(conv2_bin_weight)\n",
    "\n",
    "#             cur2 = F.max_pool2d(self.conv2(spk1), 2)\n",
    "#             # cur2 = F.max_pool2d(F.conv2d(spk1, self.conv2.weight, bias=None, stride=1,\n",
    "#             #                        padding=1), 2)\n",
    "            \n",
    "#             spk2, syn2, mem2 = self.lif2(cur2, syn2, mem2)\n",
    "\n",
    "#             fc_bin_weight = self.fc2.weight.data.clone()\n",
    "#             self.fc2.weight.data = Binarize(fc_bin_weight)\n",
    "\n",
    "#             cur3 = self.fc2(spk2.view(batch_size, -1))\n",
    "#             # cur3 = F.linear(spk2.view(batch_size, -1), self.fc2.weight)\n",
    "#             spk3, syn3, mem3 = self.lif3(cur3, syn3, mem3)\n",
    "\n",
    "#             spk3_rec.append(spk3)\n",
    "#             mem3_rec.append(mem3)\n",
    "\n",
    "#         return torch.stack(spk3_rec, dim=0), torch.stack(mem3_rec, dim=0)\n",
    "\n",
    "# net = Net().to(device)\n",
    "\n",
    "class Net(nn.Module):\n",
    "    def __init__(self):\n",
    "        super().__init__()\n",
    "\n",
    "    # initialize layers\n",
    "        self.fc1 = nn.Linear(num_inputs, num_hidden, bias=False)\n",
    "        self.lif1 = snn.Stein(alpha=alpha, beta=beta, spike_grad=spike_grad)\n",
    "        self.fc2 = nn.Linear(num_hidden, num_outputs, bias=False)\n",
    "        self.lif2 = snn.Stein(alpha=alpha, beta=beta, spike_grad=spike_grad)\n",
    "\n",
    "    def forward(self, x):\n",
    "        spk1, syn1, mem1 = self.lif1.init_stein(batch_size, num_hidden)\n",
    "        spk2, syn2, mem2 = self.lif2.init_stein(batch_size, num_outputs)\n",
    "\n",
    "        spk2_rec = []\n",
    "        mem2_rec = []\n",
    "\n",
    "        for step in range(num_steps):\n",
    "            fc1_bin_weight = self.fc1.weight.data.clone()\n",
    "            self.fc1.weight.data = Binarize(fc1_bin_weight)\n",
    "            cur1 = self.fc1(x)\n",
    "            spk1, syn1, mem1 = self.lif1(cur1, syn1, mem1)\n",
    "\n",
    "            fc2_bin_weight = self.fc2.weight.data.clone()\n",
    "            self.fc2.weight.data = Binarize(fc2_bin_weight)\n",
    "            cur2 = self.fc2(spk1)\n",
    "            spk2, syn2, mem2 = self.lif2(cur2, syn2, mem2)\n",
    "            # print(spk2.shape)\n",
    "\n",
    "            spk2_rec.append(spk2)\n",
    "            mem2_rec.append(mem2)\n",
    "\n",
    "        return torch.stack(spk2_rec, dim=0), torch.stack(mem2_rec, dim=0)\n",
    "\n",
    "net = Net().to(device)"
   ],
   "metadata": {
    "collapsed": false,
    "pycharm": {
     "name": "#%%\n"
    }
   }
  },
  {
   "cell_type": "markdown",
   "metadata": {
    "collapsed": false,
    "pycharm": {
     "name": "#%% md\n"
    },
    "id": "1CFB6LAJaB47"
   },
   "source": [
    "## 3. Training\n",
    "Time for training! Let's first define a couple of functions to print out test/train accuracy for each minibatch."
   ]
  },
  {
   "cell_type": "code",
   "metadata": {
    "pycharm": {
     "name": "#%%\n"
    },
    "id": "7V0_NGKSaB48"
   },
   "source": [
    "def print_batch_accuracy(data, targets, train=False):\n",
    "    output, _ = net(data.view(batch_size, -1))\n",
    "    # output, _ = net(data.view(batch_size, 1, 28, 28))\n",
    "    _, am = output.sum(dim=0).max(1)\n",
    "    acc = np.mean((targets == am). detach().cpu().numpy())\n",
    "\n",
    "    if train is True:\n",
    "        print(f\"Train Set Accuracy: {acc}\")\n",
    "    else:\n",
    "        print(f\"Test Set Accuracy: {acc}\")\n",
    "\n",
    "def train_printer():\n",
    "    print(f\"Epoch {epoch}, Minibatch {minibatch_counter}\")\n",
    "    print(f\"Train Set Loss: {loss_hist[counter]}\")\n",
    "    print(f\"Test Set Loss: {test_loss_hist[counter]}\")\n",
    "    print_batch_accuracy(data_it, targets_it, train=True)\n",
    "    print_batch_accuracy(testdata_it, testtargets_it, train=False)\n",
    "    print(\"\\n\")"
   ],
   "execution_count": 13,
   "outputs": []
  },
  {
   "cell_type": "markdown",
   "metadata": {
    "collapsed": false,
    "pycharm": {
     "name": "#%% md\n"
    },
    "id": "9uVWFKdXaB48"
   },
   "source": [
    "### 3.1 Optimizer & Loss\n",
    "We'll apply the softmax function to the membrane potentials of the output layer in calculating a negative log-likelihood loss.\n",
    "The Adam optimizer is used for weight updates.\n",
    "\n",
    "Accuracy is measured by counting the spikes of the output neurons. The neuron that fires the most frequently will be our predicted class."
   ]
  },
  {
   "cell_type": "code",
   "metadata": {
    "pycharm": {
     "name": "#%%\n"
    },
    "id": "I4BNFQkBaB48"
   },
   "source": [
    "optimizer = torch.optim.Adam(net.parameters(), lr=2e-4, betas=(0.9, 0.999))\n",
    "log_softmax_fn = nn.LogSoftmax(dim=-1)\n",
    "loss_fn = nn.NLLLoss()"
   ],
   "execution_count": 14,
   "outputs": []
  },
  {
   "cell_type": "markdown",
   "metadata": {
    "collapsed": false,
    "pycharm": {
     "name": "#%% md\n"
    },
    "id": "0enleDrOaB49"
   },
   "source": [
    "### 3.2 Training Loop\n",
    "Now just sit back, relax, and wait for convergence."
   ]
  },
  {
   "cell_type": "markdown",
   "source": [
    "High precision BPTT training loop"
   ],
   "metadata": {
    "collapsed": false,
    "pycharm": {
     "name": "#%% md\n"
    }
   }
  },
  {
   "cell_type": "code",
   "execution_count": null,
   "outputs": [],
   "source": [
    "loss_hist = []\n",
    "test_loss_hist = []\n",
    "counter = 0\n",
    "\n",
    "# Outer training loop\n",
    "for epoch in range(10):\n",
    "\n",
    "    minibatch_counter = 0\n",
    "    train_batch = iter(train_loader)\n",
    "\n",
    "    # Minibatch training loop\n",
    "    for data_it, targets_it in train_batch:\n",
    "        data_it = data_it.to(device)\n",
    "        targets_it = targets_it.to(device)\n",
    "\n",
    "        output, mem_rec = net(data_it.view(batch_size, -1))\n",
    "        # output, mem_rec = net(data_it.view(batch_size, 1, 28, 28)) # [28x28] or [1x28x28]?\n",
    "        log_p_y = log_softmax_fn(mem_rec)\n",
    "        loss_val = torch.zeros((1), dtype=dtype, device=device)\n",
    "\n",
    "        # Sum loss over time steps to perform BPTT\n",
    "        for step in range(num_steps):\n",
    "          loss_val += loss_fn(log_p_y[step], targets_it)\n",
    "\n",
    "\n",
    "        # BNN OPTimization\n",
    "        optimizer.zero_grad()\n",
    "        loss_val.backward()\n",
    "        for p in list(net.parameters()):\n",
    "                if hasattr(p,'org'):\n",
    "                    p.data.copy_(p.org)\n",
    "        nn.utils.clip_grad_norm_(net.parameters(), 1)\n",
    "        optimizer.step()\n",
    "        for p in list(net.parameters()):\n",
    "                if hasattr(p,'org'):\n",
    "                    p.org.copy_(p.data.clamp_(-1,1))\n",
    "\n",
    "        # Store loss history for future plotting\n",
    "        loss_hist.append(loss_val.item())\n",
    "\n",
    "        # Test set\n",
    "        test_data = itertools.cycle(test_loader)\n",
    "        testdata_it, testtargets_it = next(test_data)\n",
    "        testdata_it = testdata_it.to(device)\n",
    "        testtargets_it = testtargets_it.to(device)\n",
    "\n",
    "        # Test set forward pass\n",
    "        test_output, test_mem_rec = net(testdata_it.view(batch_size, -1))\n",
    "        # test_output, test_mem_rec = net(testdata_it.view(batch_size, 1, 28, 28))\n",
    "\n",
    "        # Test set loss\n",
    "        log_p_ytest = log_softmax_fn(test_mem_rec)\n",
    "        log_p_ytest = log_p_ytest.sum(dim=0)\n",
    "        loss_val_test = loss_fn(log_p_ytest, testtargets_it)\n",
    "        test_loss_hist.append(loss_val_test.item())\n",
    "\n",
    "        # Print test/train loss/accuracy\n",
    "        if counter % 50 == 0:\n",
    "          train_printer()\n",
    "        minibatch_counter += 1\n",
    "        counter += 1\n",
    "\n",
    "loss_hist_true_grad = loss_hist\n",
    "test_loss_hist_true_grad = test_loss_hist"
   ],
   "metadata": {
    "collapsed": false,
    "pycharm": {
     "name": "#%%\n"
    }
   }
  },
  {
   "cell_type": "markdown",
   "metadata": {
    "pycharm": {
     "name": "#%% md\n"
    },
    "id": "g5y4NZAgaB49",
    "outputId": "68e0e0ec-0a40-4682-c014-a17fc8258d23",
    "colab": {
     "base_uri": "https://localhost:8080/"
    }
   },
   "source": [
    "Old Training Loop"
   ]
  },
  {
   "cell_type": "code",
   "execution_count": null,
   "outputs": [],
   "source": [
    "loss_hist = []\n",
    "test_loss_hist = []\n",
    "counter = 0\n",
    "\n",
    "# Outer training loop\n",
    "for epoch in range(1):\n",
    "\n",
    "    minibatch_counter = 0\n",
    "    train_batch = iter(train_loader)\n",
    "\n",
    "    # Minibatch training loop\n",
    "    for data_it, targets_it in train_batch:\n",
    "        data_it = data_it.to(device)\n",
    "        targets_it = targets_it.to(device)\n",
    "\n",
    "        output, mem_rec = net(data_it.view(batch_size, -1))\n",
    "        # output, mem_rec = net(data_it.view(batch_size, 1, 28, 28)) # [28x28] or [1x28x28]?\n",
    "        log_p_y = log_softmax_fn(mem_rec)\n",
    "        loss_val = torch.zeros((1), dtype=dtype, device=device)\n",
    "\n",
    "        # Sum loss over time steps to perform BPTT\n",
    "        for step in range(num_steps):\n",
    "          loss_val += loss_fn(log_p_y[step], targets_it)\n",
    "\n",
    "        # Gradient calculation\n",
    "        optimizer.zero_grad()\n",
    "        loss_val.backward(retain_graph=True)\n",
    "\n",
    "        # Weight Update\n",
    "        nn.utils.clip_grad_norm_(net.parameters(), 1)\n",
    "        optimizer.step()\n",
    "\n",
    "        # Store loss history for future plotting\n",
    "        loss_hist.append(loss_val.item())\n",
    "\n",
    "        # Test set\n",
    "        test_data = itertools.cycle(test_loader)\n",
    "        testdata_it, testtargets_it = next(test_data)\n",
    "        testdata_it = testdata_it.to(device)\n",
    "        testtargets_it = testtargets_it.to(device)\n",
    "\n",
    "        # Test set forward pass\n",
    "        test_output, test_mem_rec = net(testdata_it.view(batch_size, -1))\n",
    "        # test_output, test_mem_rec = net(testdata_it.view(batch_size, 1, 28, 28))\n",
    "\n",
    "        # Test set loss\n",
    "        log_p_ytest = log_softmax_fn(test_mem_rec)\n",
    "        log_p_ytest = log_p_ytest.sum(dim=0)\n",
    "        loss_val_test = loss_fn(log_p_ytest, testtargets_it)\n",
    "        test_loss_hist.append(loss_val_test.item())\n",
    "\n",
    "        # Print test/train loss/accuracy\n",
    "        if counter % 50 == 0:\n",
    "          train_printer()\n",
    "        minibatch_counter += 1\n",
    "        counter += 1\n",
    "\n",
    "loss_hist_true_grad = loss_hist\n",
    "test_loss_hist_true_grad = test_loss_hist"
   ],
   "metadata": {
    "collapsed": false,
    "pycharm": {
     "name": "#%%\n"
    }
   }
  },
  {
   "cell_type": "markdown",
   "metadata": {
    "collapsed": false,
    "pycharm": {
     "name": "#%% md\n"
    },
    "id": "DpTsZZLmaB4-"
   },
   "source": [
    "## 4. Results\n",
    "### 4.1 Plot Training/Test Loss"
   ]
  },
  {
   "cell_type": "code",
   "metadata": {
    "pycharm": {
     "name": "#%%\n"
    },
    "id": "Yw9hpEi7aB4-",
    "outputId": "8d0385a7-0fa1-4d88-901e-6152d47e12f8",
    "colab": {
     "base_uri": "https://localhost:8080/",
     "height": 334
    }
   },
   "source": [
    "# Plot Loss\n",
    "fig = plt.figure(facecolor=\"w\", figsize=(10, 5))\n",
    "plt.plot(loss_hist)\n",
    "plt.plot(test_loss_hist)\n",
    "plt.legend([\"Test Loss\", \"Train Loss\"])\n",
    "plt.xlabel(\"Epoch\")\n",
    "plt.ylabel(\"Loss\")\n",
    "plt.show()"
   ],
   "execution_count": 16,
   "outputs": [
    {
     "output_type": "display_data",
     "data": {
      "image/png": "[encoded data removed]",
      "text/plain": [
       "<Figure size 720x360 with 1 Axes>"
      ]
     },
     "metadata": {
      "tags": []
     }
    }
   ]
  },
  {
   "cell_type": "markdown",
   "metadata": {
    "collapsed": false,
    "pycharm": {
     "name": "#%% md\n"
    },
    "id": "6ww2lt6paB4_"
   },
   "source": [
    "### 4.2 Test Set Accuracy"
   ]
  },
  {
   "cell_type": "code",
   "metadata": {
    "pycharm": {
     "name": "#%%\n"
    },
    "id": "1KZ7WVqhaB4_",
    "outputId": "b7deaf08-3b3b-4f5b-f785-993a1b25269b",
    "colab": {
     "base_uri": "https://localhost:8080/"
    }
   },
   "source": [
    "total = 0\n",
    "correct = 0\n",
    "test_loader = DataLoader(mnist_test, batch_size=batch_size, shuffle=True, drop_last=False)\n",
    "\n",
    "with torch.no_grad():\n",
    "  net.eval()\n",
    "  for data in test_loader:\n",
    "    images, labels = data\n",
    "    images = images.to(device)\n",
    "    labels = labels.to(device)\n",
    "\n",
    "    # If current batch matches batch_size, just do the usual thing\n",
    "    if images.size()[0] == batch_size:\n",
    "      outputs, _ = net(images.view(batch_size, -1))\n",
    "      # outputs, _ = net(images.view(batch_size, 1, 28, 28))\n",
    "\n",
    "    # If current batch does not match batch_size (e.g., is the final minibatch),\n",
    "    # modify batch_size in a temp variable and restore it at the end of the else block\n",
    "    else:\n",
    "      temp_bs = batch_size\n",
    "      batch_size = images.size()[0]\n",
    "      outputs, _ = net(images.view(images.size()[0], -1))\n",
    "      # outputs, _ = net(images.view(images.size()[0], 1, 28, 28))\n",
    "      batch_size = temp_bs\n",
    "\n",
    "    _, predicted = outputs.sum(dim=0).max(1)\n",
    "    total += labels.size(0)\n",
    "    correct += (predicted == labels).sum().item()\n",
    "\n",
    "print(f\"Total correctly classified test set images: {correct}/{total}\")\n",
    "print(f\"Test Set Accuracy: {100 * correct / total}%\")"
   ],
   "execution_count": 20,
   "outputs": [
    {
     "output_type": "stream",
     "text": [
      "Total correctly classified test set images: 980/10000\n",
      "Test Set Accuracy: 9.8%\n"
     ],
     "name": "stdout"
    }
   ]
  },
  {
   "cell_type": "markdown",
   "metadata": {
    "collapsed": false,
    "pycharm": {
     "name": "#%% md\n"
    },
    "id": "hDQg3UsUaB4_"
   },
   "source": [
    "Voila! That's it for static MNIST."
   ]
  },
  {
   "cell_type": "markdown",
   "metadata": {
    "collapsed": false,
    "pycharm": {
     "name": "#%% md\n"
    },
    "id": "Rh7ZwFs4aB4_"
   },
   "source": [
    "## 5. Spiking MNIST\n",
    "Part of the appeal of SNNs is their ability to handle time-varying spiking data. So let's use rate-coding to convert MNIST into spiking MNIST using the `spikegen` module in Tutorial 1, and train our network with that instead."
   ]
  },
  {
   "cell_type": "code",
   "metadata": {
    "pycharm": {
     "name": "#%%\n"
    },
    "id": "DYGblNEgaB5A"
   },
   "source": [
    "from snntorch import spikegen\n",
    "\n",
    "# MNIST to spiking-MNIST\n",
    "spike_data, spike_targets = spikegen.rate(data_it, targets_it, num_outputs=num_outputs, num_steps=num_steps,\n",
    "                                                      gain=1, offset=0, convert_targets=False, temporal_targets=False)"
   ],
   "execution_count": 21,
   "outputs": []
  },
  {
   "cell_type": "markdown",
   "metadata": {
    "collapsed": false,
    "pycharm": {
     "name": "#%% md\n"
    },
    "id": "xgRdm4jRaB5A"
   },
   "source": [
    "### 5.1 Visualiser\n",
    "Just so you're damn sure it's a spiking input."
   ]
  },
  {
   "cell_type": "code",
   "metadata": {
    "pycharm": {
     "name": "#%%\n"
    },
    "id": "geVqzyksaB5A",
    "outputId": "54785638-3937-47f6-ea0e-d77733fceb68",
    "colab": {
     "base_uri": "https://localhost:8080/"
    }
   },
   "source": [
    "!pip install celluloid # animating matplotlib plots made easy"
   ],
   "execution_count": 22,
   "outputs": [
    {
     "output_type": "stream",
     "text": [
      "Collecting celluloid\n",
      "  Downloading https://files.pythonhosted.org/packages/60/a7/7fbe80721c6f1b7370c4e50c77abe31b4d5cfeb58873d4d32f48ae5a0bae/celluloid-0.2.0-py3-none-any.whl\n",
      "Requirement already satisfied: matplotlib in /usr/local/lib/python3.6/dist-packages (from celluloid) (3.2.2)\n",
      "Requirement already satisfied: numpy>=1.11 in /usr/local/lib/python3.6/dist-packages (from matplotlib->celluloid) (1.19.4)\n",
      "Requirement already satisfied: cycler>=0.10 in /usr/local/lib/python3.6/dist-packages (from matplotlib->celluloid) (0.10.0)\n",
      "Requirement already satisfied: pyparsing!=2.0.4,!=2.1.2,!=2.1.6,>=2.0.1 in /usr/local/lib/python3.6/dist-packages (from matplotlib->celluloid) (2.4.7)\n",
      "Requirement already satisfied: python-dateutil>=2.1 in /usr/local/lib/python3.6/dist-packages (from matplotlib->celluloid) (2.8.1)\n",
      "Requirement already satisfied: kiwisolver>=1.0.1 in /usr/local/lib/python3.6/dist-packages (from matplotlib->celluloid) (1.3.1)\n",
      "Requirement already satisfied: six in /usr/local/lib/python3.6/dist-packages (from cycler>=0.10->matplotlib->celluloid) (1.15.0)\n",
      "Installing collected packages: celluloid\n",
      "Successfully installed celluloid-0.2.0\n"
     ],
     "name": "stdout"
    }
   ]
  },
  {
   "cell_type": "code",
   "metadata": {
    "pycharm": {
     "name": "#%%\n"
    },
    "id": "PbLMA0pgaB5A",
    "outputId": "ef584685-37c4-481c-c7da-1b11de547e32",
    "colab": {
     "base_uri": "https://localhost:8080/",
     "height": 540
    }
   },
   "source": [
    "from celluloid import Camera\n",
    "from IPython.display import HTML\n",
    "\n",
    "# Animator\n",
    "spike_data_sample = spike_data[:, 0, 0].cpu()\n",
    "\n",
    "fig, ax = plt.subplots()\n",
    "camera = Camera(fig)\n",
    "plt.axis('off')\n",
    "\n",
    "for step in range(num_steps):\n",
    "    im = ax.imshow(spike_data_sample[step, :, :], cmap='plasma')\n",
    "    camera.snap()\n",
    "\n",
    "# interval=40 specifies 40ms delay between frames\n",
    "a = camera.animate(interval=40)\n",
    "HTML(a.to_html5_video())"
   ],
   "execution_count": 44,
   "outputs": [
    {
     "output_type": "execute_result",
     "data": {
      "text/html": [
       "<video width=\"432\" height=\"288\" controls autoplay loop>\n",
       "  <source type=\"video/mp4\" src=\"data:video/mp4;base64,AAAAHGZ0eXBNNFYgAAACAGlzb21pc28yYXZjMQAAAAhmcmVlAAAXYG1kYXQAAAKuBgX//6rcRem9\n",
       "5tlIt5Ys2CDZI+7veDI2NCAtIGNvcmUgMTUyIHIyODU0IGU5YTU5MDMgLSBILjI2NC9NUEVHLTQg\n",
       "QVZDIGNvZGVjIC0gQ29weWxlZnQgMjAwMy0yMDE3IC0gaHR0cDovL3d3dy52aWRlb2xhbi5vcmcv\n",
       "eDI2NC5odG1sIC0gb3B0aW9uczogY2FiYWM9MSByZWY9MyBkZWJsb2NrPTE6MDowIGFuYWx5c2U9\n",
       "MHgzOjB4MTEzIG1lPWhleCBzdWJtZT03IHBzeT0xIHBzeV9yZD0xLjAwOjAuMDAgbWl4ZWRfcmVm\n",
       "PTEgbWVfcmFuZ2U9MTYgY2hyb21hX21lPTEgdHJlbGxpcz0xIDh4OGRjdD0xIGNxbT0wIGRlYWR6\n",
       "b25lPTIxLDExIGZhc3RfcHNraXA9MSBjaHJvbWFfcXBfb2Zmc2V0PS0yIHRocmVhZHM9MyBsb29r\n",
       "YWhlYWRfdGhyZWFkcz0xIHNsaWNlZF90aHJlYWRzPTAgbnI9MCBkZWNpbWF0ZT0xIGludGVybGFj\n",
       "ZWQ9MCBibHVyYXlfY29tcGF0PTAgY29uc3RyYWluZWRfaW50cmE9MCBiZnJhbWVzPTMgYl9weXJh\n",
       "bWlkPTIgYl9hZGFwdD0xIGJfYmlhcz0wIGRpcmVjdD0xIHdlaWdodGI9MSBvcGVuX2dvcD0wIHdl\n",
       "aWdodHA9MiBrZXlpbnQ9MjUwIGtleWludF9taW49MjUgc2NlbmVjdXQ9NDAgaW50cmFfcmVmcmVz\n",
       "aD0wIHJjX2xvb2thaGVhZD00MCByYz1jcmYgbWJ0cmVlPTEgY3JmPTIzLjAgcWNvbXA9MC42MCBx\n",
       "cG1pbj0wIHFwbWF4PTY5IHFwc3RlcD00IGlwX3JhdGlvPTEuNDAgYXE9MToxLjAwAIAAAAQUZYiE\n",
       "ADv//vdOvwKbRZdqA5JXCvbKpCZZuVJrAfKmAAADAAARsG58lw15q9IkAACtobhz+EtXgAGbPfnA\n",
       "6vBq2y4KD1VFSYr8QiGU1RZ6il6SV2xj+fxPL8Qg2QVIKd1FSNrbUk/xxGhrNkdYJefn3ynUL9a4\n",
       "OYVcKYGaf0ChmcI28O1Gj0TuAWTj0qHWbh5a3hyHjwq2UQAIeDYzG252zwnVeYA4nHKnQFLAsDuT\n",
       "TaR7q0B9KGdQgDANcqLy4U14CpAE6AUX4jQYhTjJm/IAhJRNN0j3bzlUhOoCj0ooBontDxhQU/rl\n",
       "lM63kPeam8Tbwij4sPXF2/vb6n0ZOZWZ0kXezrtDHD2Q4CLs/SGZNWK+6UFsICzjSQCDdO0GRATs\n",
       "nXgNPS5XyAnaPOf888nBk833hDZj+nK5Xk5vN6sOUGG3v+XPBg1/nztY0wKwv66FkBQTWl6FrNTQ\n",
       "7lIHPqMiracv9s3tFlOVpFmUBZ6tGCEICEMJtfEZLdY4f+jrI7qHuMm+plHBSEDbVWefNXNDhb2o\n",
       "jbKmVRNXoysU3mPEbz360D8Eg+MEip+79f67Ea98/7poO7TqJjXW94TCHyHaMNI2GjIlFzGA9Jsf\n",
       "qVSwSzr+nhiTVR4jf2A78kj6O8cGWDvhRAqf8hYKRRrchqGn2yHQhIwbd344uNxd/1RurFUjXDT5\n",
       "BoNil08u1lPLJRj1qjbmFiEIsuHv0/Gwe9CXVK2AmN6n7VwaQNg1gd58UQr8X7vpDTOwDf/JgCwl\n",
       "RiuuUokwPe7oYXJgEbiA4hjX0fsAiuDqclH5MYzJCTGcz3IXjeqrXXMnz6kzAfrj23WCJabDjP4K\n",
       "rz+ulR43FK9Lyc0rUR73njWO+l/EAFj2wvdaMdrSTWFj/F3h4ED0+jJsBPykgLQi7KUDNeVT/Du5\n",
       "Zlkn0SvnlaA+Q0kwzEpadzYKZyem7snnpSneGV1Qf/94N/6w4FGuzJtrbVGJQI4ybGajrLvrVmZ0\n",
       "eAA2AkKIS6lH/UGgSgbVqT5JPKtJInuZffTxLMDVsSRMLFxpl/GrFw6ErphlHv43cUAQijyl9ONe\n",
       "QVoo5Mb7IzhmIrbKNmGsvbIW31PSgAhIIfgKNNDjvH48UG9ZVL1gAYrA3prxTYrAUasuMBOfpovz\n",
       "C2PU3nZo36dGZHnxRwSNf1obRljTrCMMv/U0oGP4/eLvCKJEb+uSVtISLf2gIj1i1F0z/uzLRzEA\n",
       "B5fLBTjJKcIncgw3Uu/yJayh9g9XO8rC7+Tb+tow4rOn37tQX9XlR3Uw6auxUl0Kt9N4w9HUnmVn\n",
       "hXCS/6cWEacY9aheQmhjc6xfCTuM5OF5h/gtmDL1dRf/6u25u3YoA9fsqmUUPDAOzZFz/Uf/tG+5\n",
       "qGlv67R6nkAAARI0ssopAAABNkGaJGxDv/6plgAVT0eCAO6iW4xjWjAO+aSdFv/XuPPVnv/241gf\n",
       "MG+upDZdbnc6f9LJSbb46FQHzdYaegmh2a938DRCF6V4Wii4k7ibWOcISN9YPDVnzUWn2K1htwk3\n",
       "YkXwzBUCd1LVkXuOe3jPur+v/ZNoo62LtAM01Vnf+ahsgFMdtMkUTDT5zNttD9EWbhBFcC09qniw\n",
       "qeT6BIgHf6iF1fq+3BLYgEVN44wDj+TXeo41e/v+mxSBaQ2TZfDaEM8cywTLhMZWKeAoVpnqx/Yk\n",
       "7P/GA6CNW1CvuWMjNCW+Z+WdtGRgjy+DWFvo8LqUORLE9xDuE8DAaKXWb5KhIHYWeCGcwvpXGLY5\n",
       "GXGEa5xOZYte/u08UJVWfEjdOHdPKiyXUw5BNWnofjx5gZVnvzO+u62T2pkAAAD3QZ5CeIX/ADEH\n",
       "CVQ5sDOYvb7u07sKbK6BUYRBLC2eXslyWAd8Kpm+iB9mOKnHCpdgtNKRccwLSYANqPIio/szhDG4\n",
       "Ar7TVc3fwwTa/w+h+5S+41pWKAPDCMN+B1/Ee9gX/bOkFo0VgHI1YZXo2eku6+qW0tF4l224DaE9\n",
       "Dt6NgrQy79FKlVxaGDphRdqdRSGbYWI3K1sUoQ/2eH/EPFAth4smaP9cl6n+3qKwureGUcHlE8sY\n",
       "biMg6siPGo+q8ncW9bPlTqZaZhaIFLNj8eatRQg9YCkPtW2Nk5a1w1uJKvYxuYw2huV94NV+OmGt\n",
       "mwCQNNvFbqgZnwAAAHEBnmF0Qr8ARWvduYEQT22NT2naM5ZdVAO/ZUVhvi80nszWgd/NBt05r0I1\n",
       "wSGKmFHWRKKvPWXm0xeaoATt5iqBOJqyQzEL0bm7Tv0/Rc9U3n2lJXMh8pKYX+yoTMLLUBLJJCBv\n",
       "7mqXGCWyPeIU3awQIAAAAJsBnmNqQr8AIrJDR1I4/vHF7ZbE3CSQgOD5UDv5sTmTjCADc75pQtm8\n",
       "gKyfyp+0fqTQYctaKpSJLHowT4nmgtW1hfRYsY1MGl0dioXI3ng56anq9hr30k9/FQrXm4L7Wzjq\n",
       "hfgbuiTK3Y/c07s9fdBEuBn37QRP7QJ9cLeTA6cGgf2dFCfqqkzdI5HJoOEp2+XpE/0ENZZN+vuF\n",
       "GwAAANBBmmZJqEFomUwU8O/+qZYAKX/Wbh9oGuvzhmqbLrSvLnnvNpAAqBHioKTiEOm6wVnnMeWI\n",
       "4O4UqfzyBPxzykVDXCjceMziYFhsOOSvT4AdDinnSWumc2GFfIiPvfCobFa8s6W3HQMUZL5S+O1h\n",
       "/lUDBNR7D5QXUB7Xv/gG0kx4YkXrNkAl8giCfu+vynezFMFb/CfyPLqW/LRO85uI5gsm07xFlEJe\n",
       "ErNDNn7H/OuRvrjDAns3zluuy47WgTCjn4VCbjl3/aKY8Yb6zcmoj6G/AAAATwGehWpCvwBBgzTn\n",
       "C1a+naFPXLJt2d6hB8HHdQ0zOn9c0/B0Aj8wZquPEGdy/rH7mFYL8m6S28EEVI4VbwETMjCaSTvw\n",
       "qBYn+jLoHx/q4eEAAACIQZqKSeEKUmUwId/+qZYAKlpIUrX7y+4U2PbJhvHoKEhgAnpKNr4AYRR8\n",
       "Xm32whahGKMmybyoqkN7+BXk+At53YhjX1sWwBYoMDGxqN0AFFl3rWywWbE46inyt7gk0RNYJg/o\n",
       "iaw+hgz+/Btk9BhXLFMUnNrmvJj2HLBb/Ysm5DNpn9zmtlHUhwAAAKBBnqhFNEwv/wAyMthv1QWf\n",
       "xvDYAIEna94OgT9/berXCYh/3ThrPGgTCgcvieMMeEBmOnL2Ui/Z5G5Qebq7UF/AR+TYjjLj7xRz\n",
       "SvzagQ+LN/c+vNdOlO0014QvyFvfKk344/4t0Qsh/NO7B/JbKvhaCiBm0Br749wmo90rUc09cnjT\n",
       "8JgJsresvIqO8bIYM6oabJs9BIJ8OIJDecScdBjYAAAA9AGex3RCvwBDfAhnd1hqvSw9+UHuIAHV\n",
       "1365Wu8SN/YL391xdum+KYGltNtjaJyjxlVJn/CvpcE7pW+5qKaluagwYvUxGHG/wF0PIe6JeEoq\n",
       "iTfH+jO9XK23ZSF/xDDKePFtp62Z5Y1E6d5d4L4qKRzfJ+oGHJ2fLIUUVyML/mO/YR3fpjhLTZ/e\n",
       "gwmVWcYrYl+Hq9FijW6NtV1aHYvi6l/xvFMdysKlhnbke1ciJBmQkdVxK+zeegsexqw4NDDEsQ4o\n",
       "ihzPWgV/8tBrRI/nfKp0+t9sSmHAXKBYiEGP4tYT/H3Xn5/G4znG7ja5fGztUv/EH20AAAEYAZ7J\n",
       "akK/AENkKTsGzsnLvqLpLOGsrxyLErS12up2aNjPw9oTTfw8xU8S7AmlYwkf30hFA5fh0svOAEEA\n",
       "rGhjH4TySpLgbfaiJ3Xn/PODIYBLgp7IZaovQvlpQ6cU6IBdE85Z5I/ROPuZFKhf5yQk2EH9Hitd\n",
       "jY6rKlp+/WMTI50g9U6haBPPzGeAv1hJ1WOvr1Xboq+OmKeiHorS/+ELxKAAIu5dMYoqLxu7SqPu\n",
       "nKvocMqJeXz2zVpP8EGaCzQonblRUg2FykzH2PkYq9QADk7MHi7KxGBFM6vr0vkiOtbywYjwR7JO\n",
       "9yhkF8mHqN36nR2vMLTyGYlYi1Ma4pzokeeQquCveMi36gXF6dYyrYUQT2N2SUr6wQAAAMtBms5J\n",
       "qEFomUwIb//+p4QAVAQzfWkyPb4L2ZQHgq+vKBAOarzDIMdyJzfrVV/+FjDsfM3ik9LQitgr5pUU\n",
       "9ylpQY+ct8elKz6Z5G0hqz0OChIKeoYEnryZ6bRrtU9UDjxrXbMXCCqhlF1Zvbll3afhJ7bsnH/3\n",
       "vLnUTK39YKTAblLKd0xWKz7Vhr6SZycFuZmSsCOlSKXh29aVlLUsa5DW+euj+/jDpAdxAHEmbCIF\n",
       "eMqp4ALTOX4Q1QjeHEYOj3npQRElLQDzmfFDWwAAADZBnuxFESwv/wAyQajfVoKYTtshU65mpzX9\n",
       "hNQ2yWjaoWTCKeTuRmX15+HHWkGnulcRR/g81BwAAABWAZ8LdEK/AEVZwAqK3+GX7UcKvyACDYA8\n",
       "1Ixmdrnr+aWj6RrTVo48834+f9p0pQIbr17NGtNKdDVxjsi/d86zy9Ci2SsA/8fW9ToxVcNvYolY\n",
       "zSdDDaEAAACYAZ8NakK/ACKjkyMTJXD7YNl8Pm/87fLNA9Lnc7KGADnDMOPqENmmRD8+UpMVWDI7\n",
       "ClUZRA8BULLHxC9A9rwY769+v8k69vPMyVyJJRxFi85Yg3lgUlJRLc9deBmbuyfwzy7C/H6VLFMX\n",
       "23UQDKADhX99sbqyboSnohnEHhr8EvWDZ9x4tkLbGKQ3TaKr+GFiAwo6zkBi5isAAAECQZsSSahB\n",
       "bJlMCG///qeEACsehLdf0qQhjbBLL7v9anDnL1hF0RbNGPVqhjghjRlorysfHGy2UKAG7ym1QF3Y\n",
       "9IKMwSmBEAvopxSE8jHg0Lo4L54A+nVL1T2AGutu09dCQDtHrMpeZFxkx28S7qjyxqMLwnEXWlQf\n",
       "clpPkzsGKw6tJAY81yg+Hvg3EJ6rrNlU8QAKGeSt1HGm8c0AoVWXjanQWqn2dRSrKecGuf1nJG/n\n",
       "6avBw+KkCl+7JbEd1EQpz9IyjOS3ikqAAFv/vi/PYhWPg5zJdEWpAkeHYPropkVzu2YIRlfl4FZa\n",
       "grq8SZ8m4imaKV6dwhyWPC9BnqEY5vLBAAAAm0GfMEUVLC//ADN+mylM2QQAg+SLnKujtl47XBQu\n",
       "T7wy4Ljs98A44BHxuzbWYtP+St31ooFle5M8o1Z+teT7vk2OQ71DADJ8EhS+q8okGqCceSD4aB9n\n",
       "PBYIiUKnk+UYZwdiOdcgFJ5JEOPTqjgo6/LZS7iuJ0mq50TFaMcQVnNDSmjU66sTo22Vnri3GFsx\n",
       "9Tj0CkPV8f+N/wTBAAAAcQGfT3RCvwBFe/I+gK9LbJtT+/IAIb0Kn+prqwHXacPIxCIbDoerRFPW\n",
       "6uvCqd9ysRLl4l2RavFJx2sACUdQew9NJO7Ck1zjboa9c28v4coQNf5u6SX6AMYztq12PikWNu23\n",
       "6S0vfUixO9T+J9p8xyygAAAAWwGfUWpCvwBFZB/tAekthJ70m73QAbF8vtmAWrAdpi09RLGzh/Ua\n",
       "vm50lqpWVecTdQ4EinYMi8i6mvtTqgANZ0r+8+UVKgHCwDs9841ltDdaw/Dq8wqH+/O70+UAAACK\n",
       "QZtWSahBbJlMCGf//p4QAUZ7Q77FCEEAZLys/PeNwQ7EEFnOVvUWv9/X0eL6BFGbCATDxpGQgikA\n",
       "JMp+9DrkgydeOCfhuAAtVUQ0xx5f9CoOQTd2E0Zb1aphTJrATq8HeFAVCdkrxAiGy3UDs5BsuUlM\n",
       "MBKPcP+eM24M6kbTjaqVuBTrdXZlr4OAAAAAkkGfdEUVLC//ADJKZD8NOMPFRu4ADmSq1LxPdLW8\n",
       "LcI8AP5P8E/2/EivTTRhvS90251yTzqA2o9s+YqSblJITwo+zyOlG1nA5vS0UjLD7fcuIdGheMuZ\n",
       "xRX8PjfItBxxQyPX2/ZVrpvpKkiLsre4TW18njxxhWz+RTItX7rrWu8SiAi30fPkgcLEDKUYh0r0\n",
       "IJ4IAAABBQGfk3RCvwBDdusFoicls5mf7IAQfoVP9TXVgO0xaeoljZw/qNXzc6S1UrKvPvWyfsnq\n",
       "snVBHTdiub9fQoAP0QBkoQnbJoIsl5YH976KldFusj24qpyOcM2Gzq5Q61lKSaZ3o8kk5FNnhBnD\n",
       "+igjhbOclZ3m8vYEaXSbLfo+I7JkbeFESf/RcWw7Rc5IgzkwgJsnxVy8iA3LNkYd4Te/KYR9YUY3\n",
       "e3Ux5T7fIJFAF4NCnGpfPRvbvSRC05J69pxDMkJ6GOPiYVpo62dsfLA4SwIzvxGFqBjpSXmgpbu0\n",
       "ejsW5wXNA2yG2Og0WTat6OSeQkvKgGG/olVn3B32TYZL3xmC6u/fWQAAAJMBn5VqQr8AQ3Xcvmon\n",
       "WD/0ykraV6cFJXtYz8FBi6F+hIArnOo07WvnxL4Jqh1U8xVAnE1ZIZiGAZNTKmVUQJIiRd1Xzv6q\n",
       "g/cNO91CiBPOqX9aSEFBXrNziSXbkq6JoT93pdvF8IE2sTWLtApPgCKT76DpmsPaZyr9r17mDYSB\n",
       "OlfAqT483xNAeTL70RynRTzHjYAAAADRQZuYSahBbJlMFEwr//44QAUaNcydDsl3MQtetpEii3v8\n",
       "mclJIAAHDIslzOniDPDuKujgKAPV2ac924SsJii/Xa+KYUqq5Gj8+yoJz5W8xU8MFOH3lK7CWvgP\n",
       "L8OMz+xgLq1VkAYfUhjl2RSolT7yUAro9uvXTf2PLX1NW2YViznl4qdeLcDDQibJv2dd5dvnSZ0z\n",
       "aORAx9DPS69zY/p3BywBLwIVo1nM9lmWqTfN9K/FsAMWSTWU38MREr5qw6k7m4dFqKiSgNpIyGle\n",
       "zyWDns0AAADFAZ+3akK/AEV10nD3mLVhXgIV/8c5lEJvqjcDNGPyd9J3ziMNU1cmLh/xHansVTn0\n",
       "qQ+WQ4M522AFfxhVQKrjM+fSqmUu0Ooxmw+ahBjMDOc1y6SOKslVT4h4x5X2pN65QtPxq0DgVPyH\n",
       "jUVnUO7lotDfegRHcx8ckEBsvSyBuqY74z+6JgHo4ViP4NrcDbSCeUh9zYwT6FnfQ1oWZtK7tuCS\n",
       "rL5cePZ13l4uDO9jLqVbkHNxohU0b1qcqVvCoJ6bzey+8wUAAARabW9vdgAAAGxtdmhkAAAAAAAA\n",
       "AAAAAAAAAAAD6AAAA+gAAQAAAQAAAAAAAAAAAAAAAAEAAAAAAAAAAAAAAAAAAAABAAAAAAAAAAAA\n",
       "AAAAAABAAAAAAAAAAAAAAAAAAAAAAAAAAAAAAAAAAAAAAAAAAgAAA4R0cmFrAAAAXHRraGQAAAAD\n",
       "AAAAAAAAAAAAAAABAAAAAAAAA+gAAAAAAAAAAAAAAAAAAAAAAAEAAAAAAAAAAAAAAAAAAAABAAAA\n",
       "AAAAAAAAAAAAAABAAAAAAbAAAAEgAAAAAAAkZWR0cwAAABxlbHN0AAAAAAAAAAEAAAPoAAAEAAAB\n",
       "AAAAAAL8bWRpYQAAACBtZGhkAAAAAAAAAAAAAAAAAAAyAAAAMgBVxAAAAAAALWhkbHIAAAAAAAAA\n",
       "AHZpZGUAAAAAAAAAAAAAAABWaWRlb0hhbmRsZXIAAAACp21pbmYAAAAUdm1oZAAAAAEAAAAAAAAA\n",
       "AAAAACRkaW5mAAAAHGRyZWYAAAAAAAAAAQAAAAx1cmwgAAAAAQAAAmdzdGJsAAAAs3N0c2QAAAAA\n",
       "AAAAAQAAAKNhdmMxAAAAAAAAAAEAAAAAAAAAAAAAAAAAAAAAAbABIABIAAAASAAAAAAAAAABAAAA\n",
       "AAAAAAAAAAAAAAAAAAAAAAAAAAAAAAAAAAAAAAAAGP//AAAAMWF2Y0MBZAAV/+EAGGdkABWs2UGw\n",
       "loQAAAMABAAAAwDIPFi2WAEABmjr48siwAAAABx1dWlka2hA8l8kT8W6OaUbzwMj8wAAAAAAAAAY\n",
       "c3R0cwAAAAAAAAABAAAAGQAAAgAAAAAUc3RzcwAAAAAAAAABAAAAAQAAANhjdHRzAAAAAAAAABkA\n",
       "AAABAAAEAAAAAAEAAAoAAAAAAQAABAAAAAABAAAAAAAAAAEAAAIAAAAAAQAABgAAAAABAAACAAAA\n",
       "AAEAAAoAAAAAAQAABAAAAAABAAAAAAAAAAEAAAIAAAAAAQAACgAAAAABAAAEAAAAAAEAAAAAAAAA\n",
       "AQAAAgAAAAABAAAKAAAAAAEAAAQAAAAAAQAAAAAAAAABAAACAAAAAAEAAAoAAAAAAQAABAAAAAAB\n",
       "AAAAAAAAAAEAAAIAAAAAAQAABgAAAAABAAACAAAAABxzdHNjAAAAAAAAAAEAAAABAAAAGQAAAAEA\n",
       "AAB4c3RzegAAAAAAAAAAAAAAGQAABsoAAAE6AAAA+wAAAHUAAACfAAAA1AAAAFMAAACMAAAApAAA\n",
       "APgAAAEcAAAAzwAAADoAAABaAAAAnAAAAQYAAACfAAAAdQAAAF8AAACOAAAAlgAAAQkAAACXAAAA\n",
       "1QAAAMkAAAAUc3RjbwAAAAAAAAABAAAALAAAAGJ1ZHRhAAAAWm1ldGEAAAAAAAAAIWhkbHIAAAAA\n",
       "AAAAAG1kaXJhcHBsAAAAAAAAAAAAAAAALWlsc3QAAAAlqXRvbwAAAB1kYXRhAAAAAQAAAABMYXZm\n",
       "NTcuODMuMTAw\n",
       "\">\n",
       "  Your browser does not support the video tag.\n",
       "</video>"
      ],
      "text/plain": [
       "<IPython.core.display.HTML object>"
      ]
     },
     "metadata": {
      "tags": []
     },
     "execution_count": 44
    },
    {
     "output_type": "display_data",
     "data": {
      "image/png": "[encoded data removed]",
      "text/plain": [
       "<Figure size 432x288 with 1 Axes>"
      ]
     },
     "metadata": {
      "tags": [],
      "needs_background": "light"
     }
    }
   ]
  },
  {
   "cell_type": "markdown",
   "metadata": {
    "collapsed": false,
    "pycharm": {
     "name": "#%% md\n"
    },
    "id": "tWw9n9H0aB5A"
   },
   "source": [
    "## 6. Define Network\n",
    "The network is the same as before. The one difference is that the for-loop iterates through the first dimension of the input:\n",
    "`cur1 = F.max_pool2d(self.conv1(x[step]), 2)`"
   ]
  },
  {
   "cell_type": "code",
   "metadata": {
    "pycharm": {
     "name": "#%%\n"
    },
    "id": "zIpvq5jdaB5B"
   },
   "source": [
    "# spike_fn = FSS.apply\n",
    "# snn.neuron.slope = 50\n",
    "spike_grad = snn.FastSigmoidSurrogate.apply\n",
    "snn.slope = 50\n",
    "\n",
    "def Binarize(tensor):\n",
    "    tensor[tensor > 0] = 1\n",
    "    tensor[tensor<=0] = 0\n",
    "    return tensor\n",
    "# class Net(nn.Module):\n",
    "#     def __init__(self):\n",
    "#         super().__init__()\n",
    "\n",
    "#     # initialize layers\n",
    "#         self.conv1 = nn.Conv2d(in_channels=1, out_channels=12, kernel_size=5, stride=1, padding=1, bias=False)\n",
    "#         self.lif1 = snn.Stein(alpha=alpha, beta=beta, spike_grad=spike_grad)\n",
    "#         self.conv2 = nn.Conv2d(in_channels=12, out_channels=64, kernel_size=5, stride=1, padding=1, bias=False)\n",
    "#         self.lif2 = snn.Stein(alpha=alpha, beta=beta, spike_grad=spike_grad)\n",
    "#         self.fc2 = nn.Linear(64*5*5, 10, bias= False)\n",
    "#         self.lif3 = snn.Stein(alpha=alpha, beta=beta, spike_grad=spike_grad)\n",
    "\n",
    "#     def forward(self, x):\n",
    "#         # Initialize LIF state variables and spike output tensors\n",
    "#         spk1, syn1, mem1 = self.lif1.init_stein(batch_size, 12, 13, 13)\n",
    "#         spk2, syn2, mem2 = self.lif1.init_stein(batch_size, 64, 5, 5)\n",
    "#         spk3, syn3, mem3 = self.lif2.init_stein(batch_size, 10)\n",
    "\n",
    "#         spk3_rec = []\n",
    "#         mem3_rec = []\n",
    "\n",
    "#         for step in range(num_steps):\n",
    "#             conv1_bin_weight = self.conv1.weight.data.clone()\n",
    "#             self.conv1.weight.data = Binarize(conv1_bin_weight)\n",
    "            \n",
    "#             cur1 = F.max_pool2d(self.conv1(x[step]), 2)\n",
    "#             # cur1 = F.max_pool2d(F.conv2d(x, self.conv1.weight, bias=None, stride=1,\n",
    "#             #                        padding=1), 2)\n",
    "            \n",
    "#             spk1, syn1, mem1 = self.lif1(cur1, syn1, mem1)\n",
    "\n",
    "#             conv2_bin_weight = self.conv2.weight.data.clone()\n",
    "#             self.conv2.weight.data = Binarize(conv2_bin_weight)\n",
    "\n",
    "#             cur2 = F.max_pool2d(self.conv2(spk1), 2)\n",
    "#             # cur2 = F.max_pool2d(F.conv2d(spk1, self.conv2.weight, bias=None, stride=1,\n",
    "#             #                        padding=1), 2)\n",
    "            \n",
    "#             spk2, syn2, mem2 = self.lif2(cur2, syn2, mem2)\n",
    "\n",
    "#             fc_bin_weight = self.fc2.weight.data.clone()\n",
    "#             self.fc2.weight.data = Binarize(fc_bin_weight)\n",
    "\n",
    "#             cur3 = self.fc2(spk2.view(batch_size, -1))\n",
    "#             # cur3 = F.linear(spk2.view(batch_size, -1), self.fc2.weight)\n",
    "#             spk3, syn3, mem3 = self.lif3(cur3, syn3, mem3)\n",
    "\n",
    "#             spk3_rec.append(spk3)\n",
    "#             mem3_rec.append(mem3)\n",
    "\n",
    "#         return torch.stack(spk3_rec, dim=0), torch.stack(mem3_rec, dim=0)\n",
    "\n",
    "# net = Net().to(device)\n",
    "\n",
    "class Net(nn.Module):\n",
    "    def __init__(self):\n",
    "        super().__init__()\n",
    "\n",
    "    # initialize layers\n",
    "        self.fc1 = nn.Linear(num_inputs, num_hidden, bias=False)\n",
    "        self.lif1 = snn.Stein(alpha=alpha, beta=beta, spike_grad=spike_grad)\n",
    "        self.fc2 = nn.Linear(num_hidden, num_outputs, bias=False)\n",
    "        self.lif2 = snn.Stein(alpha=alpha, beta=beta, spike_grad=spike_grad)\n",
    "\n",
    "    def forward(self, x):\n",
    "        spk1, syn1, mem1 = self.lif1.init_stein(batch_size, num_hidden)\n",
    "        spk2, syn2, mem2 = self.lif2.init_stein(batch_size, num_outputs)\n",
    "\n",
    "        spk2_rec = []\n",
    "        mem2_rec = []\n",
    "\n",
    "        for step in range(num_steps):\n",
    "            fc1_bin_weight = self.fc1.weight.data.clone()\n",
    "            self.fc1.weight.data = Binarize(fc1_bin_weight)\n",
    "            cur1 = self.fc1(x[step])\n",
    "            spk1, syn1, mem1 = self.lif1(cur1, syn1, mem1)\n",
    "\n",
    "            fc2_bin_weight = self.fc2.weight.data.clone()\n",
    "            self.fc2.weight.data = Binarize(fc2_bin_weight)\n",
    "            cur2 = self.fc2(spk1)\n",
    "            spk2, syn2, mem2 = self.lif2(cur2, syn2, mem2)\n",
    "            # print(spk2.shape)\n",
    "\n",
    "            spk2_rec.append(spk2)\n",
    "            mem2_rec.append(mem2)\n",
    "\n",
    "        return torch.stack(spk2_rec, dim=0), torch.stack(mem2_rec, dim=0)\n",
    "\n",
    "net = Net().to(device)\n",
    "# class Net(nn.Module):\n",
    "#     def __init__(self):\n",
    "#         super().__init__()\n",
    "\n",
    "#         # initialize layers\n",
    "#         self.conv1 = nn.Conv2d(in_channels=1, out_channels=12, kernel_size=5, stride=1, padding=1)\n",
    "#         self.lif1 = snn.Stein(alpha=alpha, beta=beta, spike_grad=spike_grad)\n",
    "#         self.conv2 = nn.Conv2d(in_channels=12, out_channels=64, kernel_size=5, stride=1, padding=1)\n",
    "#         self.lif2 = snn.Stein(alpha=alpha, beta=beta, spike_grad=spike_grad)\n",
    "#         self.fc2 = nn.Linear(64*5*5, 10)\n",
    "#         self.lif3 = snn.Stein(alpha=alpha, beta=beta, spike_grad=spike_grad)\n",
    "\n",
    "#         # self.conv1 = nn.Conv2d(in_channels=1, out_channels=3, kernel_size=3, stride=1, padding=0)\n",
    "#         # self.lif1 = LIF(spike_fn=spike_fn, alpha=alpha, beta=beta)\n",
    "#         # self.fc1 = nn.Linear(26*26*3, 10)\n",
    "#         # self.lif2 = LIF(spike_fn=spike_fn, alpha=alpha, beta=beta)\n",
    "\n",
    "#     def forward(self, x):\n",
    "#         # Initialize LIF state variables and spike output tensors\n",
    "#         spk1, syn1, mem1 = self.lif1.init_stein(batch_size, 12, 13, 13)\n",
    "#         spk2, syn2, mem2 = self.lif2.init_stein(batch_size, 64, 5, 5)\n",
    "#         spk3, syn3, mem3 = self.lif3.init_stein(batch_size, 10)\n",
    "\n",
    "#         spk3_rec = []\n",
    "#         mem3_rec = []\n",
    "\n",
    "#         for step in range(num_steps):\n",
    "#             cur1 = F.max_pool2d(self.conv1(x[step]), 2) # add max-pooling to membrane or spikes?\n",
    "#             spk1, syn1, mem1 = self.lif1(cur1, syn1, mem1)\n",
    "#             cur2 = F.max_pool2d(self.conv2(spk1), 2)\n",
    "#             spk2, syn2, mem2 = self.lif2(cur2, syn2, mem2)\n",
    "#             cur3 = self.fc2(spk2.view(batch_size, -1))\n",
    "#             spk3, syn3, mem3 = self.lif3(cur3, syn3, mem3)\n",
    "\n",
    "#             spk3_rec.append(spk3)\n",
    "#             mem3_rec.append(mem3)\n",
    "\n",
    "#         return torch.stack(spk3_rec, dim=0), torch.stack(mem3_rec, dim=0)\n",
    "\n",
    "# net = Net().to(device)"
   ],
   "execution_count": 71,
   "outputs": []
  },
  {
   "cell_type": "markdown",
   "metadata": {
    "collapsed": false,
    "pycharm": {
     "name": "#%% md\n"
    },
    "id": "nzpf57Q1aB5B"
   },
   "source": [
    "## 7. Training\n",
    "We make a slight modification to our print-out functions to handle the new first dimension of the input:"
   ]
  },
  {
   "cell_type": "code",
   "metadata": {
    "pycharm": {
     "name": "#%%\n"
    },
    "id": "w1saOFIFaB5B"
   },
   "source": [
    "def print_batch_accuracy(data, targets, train=False):\n",
    "    output, _ = net(data.view(num_steps, batch_size, -1))\n",
    "    # output, _ = net(data.view(num_steps, batch_size, 1, 28, 28))\n",
    "    _, idx = output.sum(dim=0).max(1)\n",
    "    acc = np.mean((targets == idx).detach().cpu().numpy())\n",
    "\n",
    "    if train:\n",
    "        print(f\"Train Set Accuracy: {acc}\")\n",
    "    else:\n",
    "        print(f\"Test Set Accuracy: {acc}\")\n",
    "\n",
    "def train_printer():\n",
    "    print(f\"Epoch {epoch}, Minibatch {minibatch_counter}\")\n",
    "    print(f\"Train Set Loss: {loss_hist[counter]}\")\n",
    "    print(f\"Test Set Loss: {test_loss_hist[counter]}\")\n",
    "    print_batch_accuracy(spike_data, spike_targets, train=True)\n",
    "    print_batch_accuracy(test_spike_data, test_spike_targets, train=False)\n",
    "    print(\"\\n\")\n"
   ],
   "execution_count": 72,
   "outputs": []
  },
  {
   "cell_type": "markdown",
   "metadata": {
    "collapsed": false,
    "pycharm": {
     "name": "#%% md\n"
    },
    "id": "V9qnIq0MaB5B"
   },
   "source": [
    "### 7.1 Optimizer & Loss\n",
    "We'll keep our optimizer and loss the exact same as the static MNIST case."
   ]
  },
  {
   "cell_type": "code",
   "metadata": {
    "pycharm": {
     "name": "#%%\n"
    },
    "id": "KeWZQlzEaB5B"
   },
   "source": [
    "optimizer = torch.optim.Adam(net.parameters(), lr=2e-4, betas=(0.9, 0.999))\n",
    "log_softmax_fn = nn.LogSoftmax(dim=-1)\n",
    "loss_fn = nn.NLLLoss()"
   ],
   "execution_count": 73,
   "outputs": []
  },
  {
   "cell_type": "markdown",
   "metadata": {
    "collapsed": false,
    "pycharm": {
     "name": "#%% md\n"
    },
    "id": "VCHfUz7waB5C"
   },
   "source": [
    "### 7.2 Training Loop"
   ]
  },
  {
   "cell_type": "code",
   "metadata": {
    "pycharm": {
     "name": "#%%\n"
    },
    "id": "fuzanqrCaB5C",
    "outputId": "190574b2-2499-4a0c-f0bd-6fda7752bd3e",
    "colab": {
     "base_uri": "https://localhost:8080/"
    }
   },
   "source": [
    "loss_hist = []\n",
    "test_loss_hist = []\n",
    "counter = 0\n",
    "\n",
    "# Outer training loop\n",
    "for epoch in range(1):\n",
    "    minibatch_counter = 0\n",
    "    data = iter(train_loader)\n",
    "\n",
    "    # Minibatch training loop\n",
    "    for data_it, targets_it in data:\n",
    "        data_it = data_it.to(device)\n",
    "        targets_it = targets_it.to(device)\n",
    "\n",
    "        # Spike generator\n",
    "        spike_data, spike_targets = spikegen.rate(data_it, targets_it, num_outputs=num_outputs, num_steps=num_steps,\n",
    "                                                  gain=1, offset=0, convert_targets=False, temporal_targets=False)\n",
    "\n",
    "        # Forward pass\n",
    "        output, mem_rec = net(spike_data.view(num_steps, batch_size, -1))\n",
    "        # output, mem_rec = net(spike_data.view(num_steps, batch_size, 1, 28, 28))\n",
    "        log_p_y = log_softmax_fn(mem_rec)\n",
    "        loss_val = torch.zeros(1, dtype=dtype, device=device)\n",
    "\n",
    "        # Sum loss over time steps to perform BPTT\n",
    "        for step in range(num_steps):\n",
    "          loss_val += loss_fn(log_p_y[step], targets_it)\n",
    "\n",
    "        # Gradient Calculation\n",
    "        optimizer.zero_grad()\n",
    "        loss_val.backward(retain_graph=True)\n",
    "        nn.utils.clip_grad_norm_(net.parameters(), 1)\n",
    "\n",
    "        # Weight Update\n",
    "        optimizer.step()\n",
    "\n",
    "        # Store Loss history\n",
    "        loss_hist.append(loss_val.item())\n",
    "\n",
    "        # Test set\n",
    "        test_data = itertools.cycle(test_loader)\n",
    "        testdata_it, testtargets_it = next(test_data)\n",
    "        testdata_it = testdata_it.to(device)\n",
    "        testtargets_it = testtargets_it.to(device)\n",
    "\n",
    "        # Test set spike conversion\n",
    "        test_spike_data, test_spike_targets = spikegen.rate(testdata_it, testtargets_it, num_outputs=num_outputs,\n",
    "                                                            num_steps=num_steps, gain=1, offset=0, convert_targets=False,\n",
    "                                                            temporal_targets=False)\n",
    "\n",
    "        # Test set forward pass\n",
    "        test_output, test_mem_rec = net(test_spike_data.view(num_steps, batch_size, -1))\n",
    "        # test_output, test_mem_rec = net(test_spike_data.view(num_steps, batch_size, 1, 28, 28))\n",
    "\n",
    "        # Test set loss\n",
    "        log_p_ytest = log_softmax_fn(test_mem_rec)\n",
    "        log_p_ytest = log_p_ytest.sum(dim=0)\n",
    "        loss_val_test = loss_fn(log_p_ytest, test_spike_targets)\n",
    "        test_loss_hist.append(loss_val_test.item())\n",
    "\n",
    "        # Print test/train loss/accuracy\n",
    "        if counter % 50 == 0:\n",
    "            train_printer()\n",
    "        minibatch_counter += 1\n",
    "        counter += 1\n",
    "\n",
    "loss_hist_true_grad = loss_hist\n",
    "test_loss_hist_true_grad = test_loss_hist"
   ],
   "execution_count": 75,
   "outputs": [
    {
     "output_type": "stream",
     "text": [
      "Epoch 0, Minibatch 0\n",
      "Train Set Loss: 818.6800537109375\n",
      "Test Set Loss: 2474.806640625\n",
      "Train Set Accuracy: 0.0546875\n",
      "Test Set Accuracy: 0.0390625\n",
      "\n",
      "\n",
      "Epoch 0, Minibatch 50\n",
      "Train Set Loss: 57.564632415771484\n",
      "Test Set Loss: 57.564659118652344\n",
      "Train Set Accuracy: 0.1015625\n",
      "Test Set Accuracy: 0.0859375\n",
      "\n",
      "\n",
      "Epoch 0, Minibatch 100\n",
      "Train Set Loss: 57.564632415771484\n",
      "Test Set Loss: 57.564659118652344\n",
      "Train Set Accuracy: 0.0703125\n",
      "Test Set Accuracy: 0.0703125\n",
      "\n",
      "\n",
      "Epoch 0, Minibatch 150\n",
      "Train Set Loss: 57.564632415771484\n",
      "Test Set Loss: 57.564659118652344\n",
      "Train Set Accuracy: 0.1171875\n",
      "Test Set Accuracy: 0.09375\n",
      "\n",
      "\n",
      "Epoch 0, Minibatch 200\n",
      "Train Set Loss: 57.564632415771484\n",
      "Test Set Loss: 57.564659118652344\n",
      "Train Set Accuracy: 0.1171875\n",
      "Test Set Accuracy: 0.09375\n",
      "\n",
      "\n",
      "Epoch 0, Minibatch 250\n",
      "Train Set Loss: 57.564632415771484\n",
      "Test Set Loss: 57.564659118652344\n",
      "Train Set Accuracy: 0.09375\n",
      "Test Set Accuracy: 0.1328125\n",
      "\n",
      "\n",
      "Epoch 0, Minibatch 300\n",
      "Train Set Loss: 57.564632415771484\n",
      "Test Set Loss: 57.564659118652344\n",
      "Train Set Accuracy: 0.1171875\n",
      "Test Set Accuracy: 0.1015625\n",
      "\n",
      "\n",
      "Epoch 0, Minibatch 350\n",
      "Train Set Loss: 57.564632415771484\n",
      "Test Set Loss: 57.564659118652344\n",
      "Train Set Accuracy: 0.078125\n",
      "Test Set Accuracy: 0.109375\n",
      "\n",
      "\n",
      "Epoch 0, Minibatch 400\n",
      "Train Set Loss: 57.564632415771484\n",
      "Test Set Loss: 57.564659118652344\n",
      "Train Set Accuracy: 0.109375\n",
      "Test Set Accuracy: 0.0859375\n",
      "\n",
      "\n",
      "Epoch 0, Minibatch 450\n",
      "Train Set Loss: 57.564632415771484\n",
      "Test Set Loss: 57.564659118652344\n",
      "Train Set Accuracy: 0.15625\n",
      "Test Set Accuracy: 0.1171875\n",
      "\n",
      "\n"
     ],
     "name": "stdout"
    }
   ]
  },
  {
   "cell_type": "markdown",
   "metadata": {
    "collapsed": false,
    "id": "nVldb0Q9aB5C"
   },
   "source": [
    "## 8. Spiking MNIST Results\n",
    "### 8.1 Plot Training/Test Loss"
   ]
  },
  {
   "cell_type": "code",
   "metadata": {
    "pycharm": {
     "name": "#%%\n"
    },
    "id": "XopHe17ZaB5C",
    "outputId": "8cd6a5de-e72c-445b-9e31-710e2b7671d0",
    "colab": {
     "base_uri": "https://localhost:8080/",
     "height": 334
    }
   },
   "source": [
    "# Plot Loss\n",
    "fig = plt.figure(facecolor=\"w\", figsize=(10, 5))\n",
    "plt.plot(loss_hist)\n",
    "plt.plot(test_loss_hist)\n",
    "plt.legend([\"Test Loss\", \"Train Loss\"])\n",
    "plt.xlabel(\"Epoch\")\n",
    "plt.ylabel(\"Loss\")\n",
    "plt.show()"
   ],
   "execution_count": 76,
   "outputs": [
    {
     "output_type": "display_data",
     "data": {
      "image/png": "[encoded data removed]",
      "text/plain": [
       "<Figure size 720x360 with 1 Axes>"
      ]
     },
     "metadata": {
      "tags": []
     }
    }
   ]
  },
  {
   "cell_type": "markdown",
   "metadata": {
    "collapsed": false,
    "id": "lgu-tzsfaB5C"
   },
   "source": [
    "### 8.2 Test Set Accuracy"
   ]
  },
  {
   "cell_type": "code",
   "metadata": {
    "pycharm": {
     "name": "#%%\n"
    },
    "id": "nyIVun6laB5D",
    "outputId": "9fb46349-65b5-4896-8ed0-5af22c759413",
    "colab": {
     "base_uri": "https://localhost:8080/"
    }
   },
   "source": [
    "total = 0\n",
    "correct = 0\n",
    "test_loader = DataLoader(mnist_test, batch_size=batch_size, shuffle=True, drop_last=False)\n",
    "\n",
    "with torch.no_grad():\n",
    "  net.eval()\n",
    "  for data in test_loader:\n",
    "    images, labels = data\n",
    "    images = images.to(device)\n",
    "    labels = labels.to(device)\n",
    "\n",
    "    # If current batch matches batch_size, just do the usual thing\n",
    "    if images.size()[0] == batch_size:\n",
    "      spike_test, spike_targets = spikegen.rate(images, labels, num_outputs=num_outputs, num_steps=num_steps,\n",
    "                                                            gain=1, offset=0, convert_targets=False, temporal_targets=False)\n",
    "\n",
    "      outputs, _ = net(spike_test.view(num_steps, batch_size, -1))\n",
    "      # outputs, _ = net(spike_test.view(num_steps, batch_size, 1, 28, 28))\n",
    "\n",
    "    # If current batch does not match batch_size (e.g., is the final minibatch),\n",
    "    # modify batch_size in a temp variable and restore it at the end of the else block\n",
    "    else:\n",
    "      temp_bs = batch_size\n",
    "      batch_size = images.size()[0]\n",
    "      spike_test, spike_targets = spikegen.rate(images, labels, num_outputs=num_outputs, num_steps=num_steps,\n",
    "                                                            gain=1, offset=0, convert_targets=False, temporal_targets=False)\n",
    "      outputs, _ = net(spike_test.view(num_steps, images.size()[0], -1))\n",
    "      # outputs, _ = net(spike_test.view(num_steps, images.size()[0], 1, 28, 28))\n",
    "      batch_size = temp_bs\n",
    "\n",
    "    _, predicted = outputs.sum(dim=0).max(1)\n",
    "    total += spike_targets.size(0)\n",
    "    correct += (predicted == spike_targets).sum().item()\n",
    "\n",
    "print(f\"Total correctly classified test set images: {correct}/{total}\")\n",
    "print(f\"Test Set Accuracy: {100 * correct / total}%\")"
   ],
   "execution_count": 79,
   "outputs": [
    {
     "output_type": "stream",
     "text": [
      "Total correctly classified test set images: 980/10000\n",
      "Test Set Accuracy: 9.8%\n"
     ],
     "name": "stdout"
    }
   ]
  },
  {
   "cell_type": "markdown",
   "metadata": {
    "collapsed": false,
    "id": "WcBkni9VaB5D"
   },
   "source": [
    "Professor Lu has kidnapped my daughter and won't return her until I hit 99.99% accuracy, please help\n",
    "-JE"
   ]
  }
 ]
}