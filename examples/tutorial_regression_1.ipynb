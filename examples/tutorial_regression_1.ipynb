{
 "cells": [
  {
   "cell_type": "code",
   "execution_count": null,
   "metadata": {},
   "outputs": [
    {
     "ename": "",
     "evalue": "",
     "output_type": "error",
     "traceback": [
      "\u001b[1;31mRunning cells with '/usr/local/bin/python3' requires ipykernel package.\n",
      "\u001b[1;31mRun the following command to install 'ipykernel' into the Python environment. \n",
      "\u001b[1;31mCommand: '/usr/local/bin/python3 -m pip install ipykernel -U --user --force-reinstall'"
     ]
    }
   ],
   "source": [
    "TO DO: Update Colab Links\n",
    "<a href=\"https://colab.research.google.com/github/jeshraghian/snntorch/blob/master/examples/tutorial_7_neuromorphic_datasets.ipynb\" target=\"_parent\"><img src=\"https://colab.research.google.com/assets/colab-badge.svg\" alt=\"Open In Colab\"/></a>"
   ]
  },
  {
   "attachments": {},
   "cell_type": "markdown",
   "metadata": {
    "id": "RBNKFLJIobYt"
   },
   "source": [
    "[<img src='https://github.com/jeshraghian/snntorch/blob/master/docs/_static/img/snntorch_alpha_w.png?raw=true' width=\"400\">](https://github.com/jeshraghian/snntorch/)\n",
    "\n",
    "# Regression with SNNs\n",
    "## Tutorial 8\n",
    "### By Alexander Henkes (https://orcid.org/0000-0003-4615-9271) and Jason K. Eshraghian (www.ncg.ucsc.edu)\n",
    "\n",
    "\n",
    "TO DO: Update Google Colab Link\n",
    "<a href=\"https://colab.research.google.com/github/jeshraghian/snntorch/blob/master/examples/tutorial_regression_1.ipynb\">\n",
    "  <img src=\"https://colab.research.google.com/assets/colab-badge.svg\" alt=\"Open In Colab\"/>\n",
    "</a>\n",
    "\n",
    "[<img src='https://github.com/jeshraghian/snntorch/blob/master/docs/_static/img/GitHub-Mark-Light-120px-plus.png?raw=true' width=\"28\">](https://github.com/jeshraghian/snntorch/) [<img src='https://github.com/jeshraghian/snntorch/blob/master/docs/_static/img/GitHub_Logo_White.png?raw=true' width=\"80\">](https://github.com/jeshraghian/snntorch/)\n"
   ]
  },
  {
   "attachments": {},
   "cell_type": "markdown",
   "metadata": {
    "id": "4blpfg4y44uO"
   },
   "source": [
    "This tutorial is based on the following papers on nonlinear regression and spiking neural networks. If you find these resources or code useful in your work, please consider citing the following sources:\n",
    "\n",
    "> <cite> [Alexander Henkes, Jason K. Eshraghian, and Henning Wessels. “Spiking neural networks for nonlinear regression\", arXiv preprint arXiv:2210.03515, October 2022.](https://arxiv.org/abs/2210.03515) </cite>\n",
    "\n",
    "> <cite> [Jason K. Eshraghian, Max Ward, Emre Neftci, Xinxin Wang, Gregor Lenz, Girish Dwivedi, Mohammed Bennamoun, Doo Seok Jeong, and Wei D. Lu. \"Training Spiking Neural Networks Using Lessons From Deep Learning\". arXiv preprint arXiv:2109.12894, September 2021.](https://arxiv.org/abs/2109.12894) </cite>"
   ]
  },
  {
   "attachments": {},
   "cell_type": "markdown",
   "metadata": {},
   "source": [
    "## TO-DO:\n",
    "\n",
    "* Improve tutorial structure -- would it make more sense to do a Pt 1, Pt 2, Pt 3; and divide them up with \"Pt 1: Regression Using Membrane\", \"Pt 2: Regression with Recurrent LIF Neurons\", \"Pt 3: Regression with Spiking LSTMs\"? That way, people can jump straight to tutorials using RLeaky and SLSTM.\n",
    "* Update references: include nonlinear regression by a henkes, and Spiking LSTM by Y Yang\n",
    "* Make the problem statement clear by overlaying the objective function and original membrane potential before training starts\n",
    "* Start with a LIF-only network, then motivate a Recurrent LIF network, then motivate a Spiking-LSTM\n",
    "* Add a brief explanation behind the Spiking LSTM. I can draw a computational graph in Visio using a dumbed down explanation of this:  https://www.techrxiv.org/articles/preprint/Neuromorphic_Deep_Spiking_Neural_Networks_for_Seizure_Detection/20444970) \n",
    "* (Optional) Use regression to perform a classification task. E.g., apply regression to the membrane potential s.t. it reaches >threshold for the correct class. I've done this quite a lot in the past to good results."
   ]
  },
  {
   "attachments": {},
   "cell_type": "markdown",
   "metadata": {
    "id": "lnF_PEo5obYv",
    "pycharm": {
     "name": "#%% md\n"
    }
   },
   "source": [
    "In this tutorial, you will learn how to use snnTorch to perform regression using a variety of spiking neuron models, including:\n",
    "\n",
    "* Leaky Integrate-and-Fire Neurons,\n",
    "* Recurrent LIFs,\n",
    "* Spiking LSTMs,\n",
    "\n",
    "These will be implemented using a few different strategies.\n",
    "\n",
    "\n",
    "If running in Google Colab:\n",
    "* You may connect to GPU by checking `Runtime` > `Change runtime type` > `Hardware accelerator: GPU`\n",
    "* Next, install the latest PyPi distribution of snnTorch and Tonic by clicking into the following cell and pressing `Shift+Enter`."
   ]
  },
  {
   "cell_type": "code",
   "execution_count": null,
   "metadata": {},
   "outputs": [
    {
     "ename": "",
     "evalue": "",
     "output_type": "error",
     "traceback": [
      "\u001b[1;31mFailed to start the Kernel. \n",
      "\u001b[1;31mKernel Python 3.11.1 is not usable. Check the Jupyter output tab for more information. \n",
      "\u001b[1;31mView Jupyter <a href='command:jupyter.viewOutput'>log</a> for further details."
     ]
    }
   ],
   "source": [
    "!pip install snntorch --quiet"
   ]
  },
  {
   "cell_type": "code",
   "execution_count": 1,
   "metadata": {},
   "outputs": [],
   "source": [
    "# imports\n",
    "import snntorch as snn\n",
    "from snntorch import surrogate\n",
    "from snntorch import functional as SF\n",
    "from snntorch import utils\n",
    "\n",
    "import torch\n",
    "import torch.nn as nn\n",
    "from torch.utils.data import DataLoader\n",
    "from torchvision import datasets, transforms\n",
    "import torch.nn.functional as F\n",
    "\n",
    "import matplotlib.pyplot as plt\n",
    "import numpy as np\n",
    "import itertools\n",
    "import random\n",
    "import statistics\n",
    "import tqdm"
   ]
  },
  {
   "attachments": {},
   "cell_type": "markdown",
   "metadata": {},
   "source": [
    "Fix the random seed:"
   ]
  },
  {
   "cell_type": "code",
   "execution_count": 2,
   "metadata": {},
   "outputs": [],
   "source": [
    "# Seed\n",
    "torch.manual_seed(0)\n",
    "random.seed(0)\n",
    "np.random.seed(0)"
   ]
  },
  {
   "attachments": {},
   "cell_type": "markdown",
   "metadata": {},
   "source": [
    "# 1. Spiking Regression\n",
    "## 1.1 A Quick Background on Linear and Nonlinear Regression"
   ]
  },
  {
   "attachments": {},
   "cell_type": "markdown",
   "metadata": {},
   "source": [
    "The tutorials so far have focused on multi-class classification problems. But if you've made it this far, then it's probably safe to say that your brain can do more than distinguish cats and dogs. You're amazing and we believe in you.\n",
    "\n",
    "An alternative type of problem neural networks are able to tackle is regression where multiple input features $x_i$ are used to estimate an output on a continuous number line $y \\in \\mathbb{R}$. \n",
    "A classic example is estimating the price of a house, given a bunch of inputs such as land size, number of rooms, and the demand for avocado toast.\n",
    "\n",
    "The objective of a regression problem is often the mean-square error:\n",
    "\n",
    "$$\\mathcal{L}_{MSE} = \\frac{1}{n}\\sum_{i=1}^n(y_i-\\hat{y_i})^2$$\n",
    "\n",
    "where $y$ is the target and $\\hat{y}$ is the predicted value. \n",
    "\n",
    "One of the challenges of linear regression is that it can only use linear weightings of input features in predicting the output. \n",
    "Using a neural network trained using the mean-square error as the cost function allows us to perform nonlinear regression on more complex data. "
   ]
  },
  {
   "attachments": {},
   "cell_type": "markdown",
   "metadata": {},
   "source": [
    "## 1.2 Spiking Neurons in Regression\n",
    "\n",
    "Spikes are a type of nonlinearity that can also be used in learning more complex regression tasks. \n",
    "But if spiking neurons only emit spikes that are represented with 1's and 0's, then how might we perform regression? I'm glad you asked! Here are a few ideas:\n",
    "\n",
    "* Use the total number of spikes (a rate-based code)\n",
    "* Use the time of the spike (a temporal/latency-based code)\n",
    "* Use the distance between pairs of spikes (i.e., using the interspike interval)\n",
    "\n",
    "Or perhaps you pierce the neuron membrane with an electrical probe and decide to use the membrane potential instead, which is a continuous value. \n",
    "\n",
    "> Note: is it cheating to directly access the membrane potential, i.e., something that is meant to be a 'hidden state'? At this time, there isn't much consensus in the neuromorphic community. The membrane potential is usually a high precision variable as opposed to spike count, or discretized time steps which are often integers, which makes it more 'continuous', and so many research papers resort to applying the membrane potential to the loss function instead. While it costs more in terms of power and latency to operate on higher-precision values, the impact might be minor if you have a small output layer, or if the output does not need to be scaled by weights. It really is a task-specpific and hardware-specific question. "
   ]
  },
  {
   "attachments": {},
   "cell_type": "markdown",
   "metadata": {},
   "source": [
    "# 2. Setting up the Regression Problem\n",
    "\n",
    "## 2.1 Create Dataset\n",
    "\n",
    "Let's construct a simple toy problem. The following class returns the function we are hoping to learn. If `mode = \"linear\"`, a straight line with a random slope is generated. If `mode = \"sqrt\"`, then the square root of this straight line is taken instead. \n",
    "\n",
    "Our goal: train a leaky integrate-and-fire neuron such that its membrane potential follows the sample over time. "
   ]
  },
  {
   "cell_type": "code",
   "execution_count": 3,
   "metadata": {},
   "outputs": [],
   "source": [
    "class Regression_dataset(torch.utils.data.Dataset):\n",
    "    \"\"\"Simple regression dataset.\"\"\"\n",
    "\n",
    "    def __init__(self, timesteps, num_samples, mode):\n",
    "        \"\"\"Linear relation between input and output\"\"\"\n",
    "        self.num_samples = num_samples\n",
    "        feature_lst = []\n",
    "\n",
    "        for idx in range(num_samples):\n",
    "            end = float(torch.rand(1))\n",
    "            lin_vec = torch.linspace(start=0.0, end=end, steps=timesteps)\n",
    "            feature = lin_vec.view(timesteps, 1)\n",
    "            feature_lst.append(feature)\n",
    "\n",
    "        self.features = torch.stack(feature_lst, dim=1)\n",
    "\n",
    "        if mode == \"linear\":\n",
    "            self.labels = self.features * 1\n",
    "\n",
    "        elif mode == \"sqrt\":\n",
    "            slope = float(torch.rand(1))\n",
    "            self.labels = torch.sqrt(self.features * slope)\n",
    "\n",
    "        else:\n",
    "            raise NotImplementedError(\"'linear', 'sqrt'\")\n",
    "\n",
    "    def __len__(self):\n",
    "        \"\"\"Number of samples.\"\"\"\n",
    "        return self.num_samples\n",
    "\n",
    "    def __getitem__(self, idx):\n",
    "        \"\"\"General implementation, but we only have one sample.\"\"\"\n",
    "        return self.features[:, idx, :], self.labels[:, idx, :]\n"
   ]
  },
  {
   "attachments": {},
   "cell_type": "markdown",
   "metadata": {},
   "source": [
    "To see what a random sample looks like, run the following code-block:"
   ]
  },
  {
   "cell_type": "code",
   "execution_count": 25,
   "metadata": {},
   "outputs": [
    {
     "data": {
      "image/png": "[encoded data removed]",
      "text/plain": [
       "<Figure size 640x480 with 1 Axes>"
      ]
     },
     "metadata": {},
     "output_type": "display_data"
    }
   ],
   "source": [
    "num_steps = 50\n",
    "num_samples = 1\n",
    "mode = \"sqrt\" # 'linear' or 'sqrt'\n",
    "\n",
    "# generate a single data sample\n",
    "dataset = Regression_dataset(timesteps=num_steps, num_samples=num_samples, mode=mode)\n",
    "\n",
    "# plot\n",
    "sample = dataset.labels[:, 0, 0]\n",
    "plt.plot(sample)\n",
    "plt.title(\"Target function to teach network\")\n",
    "plt.xlabel(\"Time\")\n",
    "plt.ylabel(\"Membrane Potential\")\n",
    "plt.show()"
   ]
  },
  {
   "attachments": {},
   "cell_type": "markdown",
   "metadata": {},
   "source": [
    "## 2.2 Create DataLoader\n",
    "\n",
    "The Dataset objects created above load data into memory, and the DataLoader will serve it up in batches. DataLoaders in PyTorch are a handy interface for passing data into a network. They return an iterator divided up into mini-batches of size ``batch_size``."
   ]
  },
  {
   "cell_type": "code",
   "execution_count": 26,
   "metadata": {},
   "outputs": [],
   "source": [
    "batch_size = 1\n",
    "\n",
    "dataloader = torch.utils.data.DataLoader(dataset=dataset, batch_size=batch_size, drop_last=True)"
   ]
  },
  {
   "attachments": {},
   "cell_type": "markdown",
   "metadata": {},
   "source": [
    "# 3. Construct Model\n",
    "\n",
    "Let us try a simple network using only leaky integrate-and-fire layers without recurrence. \n",
    "Subsequent tutorials will show how to use more complex neuron types with higher-order recurrence.\n",
    "These architectures should work just fine, if there is no strong time dependency in the data, i.e., the next time step has weak dependence on the previous one.\n",
    "\n",
    "A few notes on the architecture below:\n",
    "\n",
    "* Setting `learn_beta=True` enables the decay rate `beta` to be a learnable parameter\n",
    "* Each neuron has a unique, and randomly initialized threshold and decay rate\n",
    "* The output layer has the reset mechanism disabled by setting `reset_mechanism=\"none\"` as we will not use any output spikes"
   ]
  },
  {
   "cell_type": "code",
   "execution_count": 34,
   "metadata": {},
   "outputs": [],
   "source": [
    "class Net(torch.nn.Module):\n",
    "    \"\"\"Simple spiking neural network in snntorch.\"\"\"\n",
    "\n",
    "    def __init__(self, timesteps, hidden):\n",
    "        super().__init__()\n",
    "        \n",
    "        self.timesteps = timesteps\n",
    "        self.hidden = hidden\n",
    "        spike_grad = surrogate.fast_sigmoid()\n",
    "        \n",
    "        # randomly initialize decay rate and threshold for layer 1\n",
    "        beta_in = torch.rand(self.hidden)\n",
    "        thr_in = torch.rand(self.hidden)\n",
    "\n",
    "        # layer 1\n",
    "        self.fc_in = torch.nn.Linear(in_features=1, out_features=self.hidden)\n",
    "        self.lif_in = snn.Leaky(beta=beta_in, threshold=thr_in, learn_beta=True, spike_grad=spike_grad)\n",
    "        \n",
    "        # randomly initialize decay rate and threshold for layer 2\n",
    "        beta_hidden = torch.rand(self.hidden)\n",
    "        thr_hidden = torch.rand(self.hidden)\n",
    "\n",
    "        # layer 2\n",
    "        self.fc_hidden = torch.nn.Linear(in_features=self.hidden, out_features=self.hidden)\n",
    "        self.lif_hidden = snn.Leaky(beta=beta_hidden, threshold=thr_hidden, learn_beta=True, spike_grad=spike_grad)\n",
    "\n",
    "        # randomly initialize decay rate for output neuron\n",
    "        beta_out = torch.rand(1)\n",
    "        \n",
    "        # layer 3: leaky integrator neuron. Note the reset mechanism is disabled and we will disregard output spikes.\n",
    "        self.fc_out = torch.nn.Linear(in_features=self.hidden, out_features=1)\n",
    "        self.li_out = snn.Leaky(beta=beta_out, threshold=1.0, learn_beta=True, spike_grad=spike_grad, reset_mechanism=\"none\")\n",
    "\n",
    "    def forward(self, x):\n",
    "        \"\"\"Forward pass for several time steps.\"\"\"\n",
    "\n",
    "        # Initalize membrane potential\n",
    "        mem_in = self.lif_in.init_leaky()\n",
    "        mem_hidden = self.lif_hidden.init_leaky()\n",
    "        mem_out = self.li_out.init_leaky()\n",
    "\n",
    "        # Empty lists to record outputs\n",
    "        cur_out_rec = []\n",
    "        mem_out_rec = []\n",
    "\n",
    "        for step in range(self.timesteps):\n",
    "            x_timestep = x[step, :, :]\n",
    "\n",
    "            cur_in = self.fc_in(x_timestep)\n",
    "            spk_in, mem_in = self.lif_in(cur_in, mem_in)\n",
    "            \n",
    "            cur_hidden = self.fc_hidden(spk_in)\n",
    "            spk_hidden, mem_hidden = self.li_out(cur_hidden, mem_hidden)\n",
    "\n",
    "            cur_out = self.fc_out(spk_hidden)\n",
    "            _, mem_out = self.li_out(cur_out, mem_out)\n",
    "\n",
    "            mem_out_rec.append(mem_out)\n",
    "\n",
    "        return torch.stack(mem_out_rec)"
   ]
  },
  {
   "attachments": {},
   "cell_type": "markdown",
   "metadata": {},
   "source": [
    "Instantiate the network below:"
   ]
  },
  {
   "cell_type": "code",
   "execution_count": 53,
   "metadata": {},
   "outputs": [],
   "source": [
    "hidden = 128\n",
    "device = torch.device(\"cuda\") if torch.cuda.is_available() else torch.device(\"cpu\")\n",
    "\n",
    "model = Net(timesteps=num_steps, hidden=hidden).to(device)\n"
   ]
  },
  {
   "attachments": {},
   "cell_type": "markdown",
   "metadata": {},
   "source": [
    "Let's observe the behavior of the output neuron before it has been trained and how it compares to the target function:"
   ]
  },
  {
   "cell_type": "code",
   "execution_count": 54,
   "metadata": {},
   "outputs": [
    {
     "data": {
      "image/png": "[encoded data removed]",
      "text/plain": [
       "<Figure size 640x480 with 1 Axes>"
      ]
     },
     "metadata": {},
     "output_type": "display_data"
    }
   ],
   "source": [
    "train_batch = iter(dataloader)\n",
    "\n",
    "with torch.no_grad():\n",
    "    for feature, label in train_batch:\n",
    "        feature = torch.swapaxes(input=feature, axis0=0, axis1=1)\n",
    "        label = torch.swapaxes(input=label, axis0=0, axis1=1)\n",
    "        feature = feature.to(device)\n",
    "        label = label.to(device)\n",
    "        mem = model(feature)\n",
    "\n",
    "# plot\n",
    "plt.plot(mem[:, 0, 0], label=\"Output\")\n",
    "plt.plot(label[:, 0, 0], '--', label=\"Target\")\n",
    "plt.title(\"Untrained Output Neuron\")\n",
    "plt.xlabel(\"Time\")\n",
    "plt.ylabel(\"Membrane Potential\")\n",
    "plt.legend(loc='best')\n",
    "plt.show()"
   ]
  },
  {
   "attachments": {},
   "cell_type": "markdown",
   "metadata": {},
   "source": [
    "As the network has not yet been trained, it is unsurprising the membrane potential follows a senseless evolution."
   ]
  },
  {
   "attachments": {},
   "cell_type": "markdown",
   "metadata": {},
   "source": [
    "# 4. Construct Training Loop\n",
    "\n",
    "We call `torch.nn.MSELoss()` to minimize the mean square error between the membrane potential and the target evolution.\n",
    "\n",
    "We iterate over the same sample of data."
   ]
  },
  {
   "cell_type": "code",
   "execution_count": 55,
   "metadata": {},
   "outputs": [
    {
     "name": "stderr",
     "output_type": "stream",
     "text": [
      "100%|██████████| 100/100 [00:03<00:00, 25.42it/s, loss=5.774e-04]\n"
     ]
    }
   ],
   "source": [
    "num_iter = 100\n",
    "\n",
    "optimizer = torch.optim.Adam(params=model.parameters(), lr=1e-3)\n",
    "loss_function = torch.nn.MSELoss()\n",
    "\n",
    "loss_hist = []\n",
    "with tqdm.trange(num_iter) as pbar:\n",
    "    for _ in pbar:\n",
    "        train_batch = iter(dataloader)\n",
    "        minibatch_counter = 0\n",
    "        loss_epoch = []\n",
    "\n",
    "        for feature, label in train_batch:\n",
    "            feature = torch.swapaxes(input=feature, axis0=0, axis1=1)\n",
    "            label = torch.swapaxes(input=label, axis0=0, axis1=1)\n",
    "            feature = feature.to(device)\n",
    "            label = label.to(device)\n",
    "            mem = model(feature)\n",
    "\n",
    "            loss_val = loss_function(mem, label)\n",
    "            optimizer.zero_grad()\n",
    "            loss_val.backward()\n",
    "            optimizer.step()\n",
    "\n",
    "            loss_hist.append(loss_val.item())\n",
    "            loss_epoch.append(loss_val.item())\n",
    "\n",
    "            minibatch_counter += 1\n",
    "\n",
    "            avg_batch_loss = sum(loss_epoch) / minibatch_counter\n",
    "            pbar.set_postfix(loss=\"%.3e\" % avg_batch_loss)"
   ]
  },
  {
   "attachments": {},
   "cell_type": "markdown",
   "metadata": {},
   "source": [
    "# 5. Evaluation"
   ]
  },
  {
   "cell_type": "code",
   "execution_count": 56,
   "metadata": {},
   "outputs": [
    {
     "name": "stdout",
     "output_type": "stream",
     "text": [
      "Mean L1-loss:       8.55e-03\n",
      "Mean rel. err.:     6.02e-02\n"
     ]
    }
   ],
   "source": [
    "loss_function = torch.nn.L1Loss()\n",
    "with torch.no_grad():\n",
    "    model.eval()\n",
    "\n",
    "    test_batch = iter(dataloader)\n",
    "\n",
    "    minibatch_counter = 0\n",
    "    rel_err_lst = []\n",
    "\n",
    "    for feature, label in test_batch:\n",
    "        feature = torch.swapaxes(input=feature, axis0=0, axis1=1)\n",
    "        label = torch.swapaxes(input=label, axis0=0, axis1=1)\n",
    "\n",
    "        feature = feature.to(device)\n",
    "        label = label.to(device)\n",
    "\n",
    "        mem = model(feature)\n",
    "\n",
    "        rel_err = torch.linalg.norm(\n",
    "            (mem - label), dim=-1\n",
    "        ) / torch.linalg.norm(label, dim=-1)\n",
    "        rel_err = torch.mean(rel_err[1:, :])\n",
    "\n",
    "        loss_val = loss_function(mem, label)\n",
    "\n",
    "        loss_hist.append(loss_val.item())\n",
    "        rel_err_lst.append(rel_err.item())\n",
    "\n",
    "        minibatch_counter += 1\n",
    "\n",
    "    mean_L1 = statistics.mean(loss_hist)\n",
    "    mean_rel = statistics.mean(rel_err_lst)\n",
    "\n",
    "print(f\"{'Mean L1-loss:':<{20}}{mean_L1:1.2e}\")\n",
    "print(f\"{'Mean rel. err.:':<{20}}{mean_rel:1.2e}\")"
   ]
  },
  {
   "attachments": {},
   "cell_type": "markdown",
   "metadata": {},
   "source": [
    "Let's plot our results for some visual intuition:"
   ]
  },
  {
   "cell_type": "code",
   "execution_count": 60,
   "metadata": {},
   "outputs": [
    {
     "data": {
      "image/png": "[encoded data removed]",
      "text/plain": [
       "<Figure size 640x480 with 1 Axes>"
      ]
     },
     "metadata": {},
     "output_type": "display_data"
    }
   ],
   "source": [
    "mem = mem.cpu()\n",
    "label = label.cpu()\n",
    "\n",
    "plt.title(\"Trained Output Neuron\")\n",
    "plt.xlabel(\"Time\")\n",
    "plt.ylabel(\"Membrane Potential\")\n",
    "for i in range(batch_size):\n",
    "    plt.plot(mem[:, i, :], label=\"Output\")\n",
    "    plt.plot(label[:, i, :], label=\"Target\")\n",
    "plt.legend(loc='best')\n",
    "plt.show()"
   ]
  },
  {
   "attachments": {},
   "cell_type": "markdown",
   "metadata": {},
   "source": [
    "It is a little jagged, but it's not looking too bad. \n",
    "\n",
    "You might try to improve the curve fit by expanding the size of the hidden layer, increasing the number of iterations, adding extra time steps, hyperparameter fine-tuning, or using a completely different neuron type."
   ]
  },
  {
   "attachments": {},
   "cell_type": "markdown",
   "metadata": {},
   "source": [
    "# Conclusion\n",
    "\n",
    "The next tutorial will test more power spiking neurons, such as Reucrrent LIF neurons and spiking LSTMs, to see how they compare.\n",
    "\n",
    "If you like this project, please consider starring ⭐ the repo on GitHub as it is the easiest and best way to support it.\n"
   ]
  },
  {
   "attachments": {},
   "cell_type": "markdown",
   "metadata": {},
   "source": [
    "# Additional Resources\n",
    "* [Check out the snnTorch GitHub project here.](https://github.com/jeshraghian/snntorch)\n",
    "* More detail on nonlinear regression with SNNs can be found in our corresponding preprint here: [Henkes, A.; Eshraghian, J. K.; and Wessels, H.  “Spiking neural networks for nonlinear regression\", arXiv preprint arXiv:2210.03515, Oct. 2022.](https://arxiv.org/abs/2210.03515) "
   ]
  },
  {
   "attachments": {},
   "cell_type": "markdown",
   "metadata": {},
   "source": [
    "## NOTES: The following neurons can go into separate tutorials.\n",
    "\n",
    "## RLIF for classification?\n",
    "\n",
    "## SLSTM for spike time loss? \n",
    "\n",
    "## SConvLSTM to draw a picture?"
   ]
  },
  {
   "cell_type": "markdown",
   "metadata": {},
   "source": [
    "# RLIF\n",
    "\n",
    "For short-time dependencies, reccurence can be introduced in the LIF, resulting in an RLIF. Typically, time series with dependencies up to around ten timesteps can be well captured by standard recurrent neurons."
   ]
  },
  {
   "cell_type": "code",
   "execution_count": null,
   "metadata": {},
   "outputs": [],
   "source": [
    "#TODO"
   ]
  },
  {
   "cell_type": "markdown",
   "metadata": {},
   "source": [
    "# SLSTM\n",
    "\n",
    "For long-time dependencies, some sort of \"memory\" has to be introduced in our architecture. One of the most common and succesfull approaches towards time series with long dependencies was introduced in the 1990th and is called \"Long-short-term memory\" [...]. By introducing a memory ..... (architecture, pictures etc.)"
   ]
  },
  {
   "cell_type": "code",
   "execution_count": 57,
   "metadata": {},
   "outputs": [],
   "source": [
    "class SLSTM(torch.nn.Module):\n",
    "    \"\"\"Simple spiking neural network in snntorch.\"\"\"\n",
    "\n",
    "    def __init__(self, timesteps, hidden):\n",
    "        super().__init__()\n",
    "        self.timesteps = timesteps\n",
    "        self.hidden = hidden\n",
    "\n",
    "        # spike_grad = snntorch.surrogate.atan() --> Not in the current version\n",
    "        spike_grad = snntorch.surrogate.fast_sigmoid()\n",
    "        \n",
    "        thr_lstm_1 = torch.rand(self.hidden)\n",
    "\n",
    "        self.slstm_1 = snntorch.SLSTM(\n",
    "            input_size=1,\n",
    "            hidden_size=self.hidden,\n",
    "            spike_grad=spike_grad,\n",
    "            learn_threshold=True,\n",
    "            threshold=thr_lstm_1,\n",
    "            reset_mechanism=\"none\",\n",
    "        )\n",
    "\n",
    "        beta_out = torch.rand(1)\n",
    "        thr_out = torch.rand(1)\n",
    "\n",
    "        self.fc_out = torch.nn.Linear(in_features=self.hidden, out_features=1)\n",
    "        self.li_out = snn.Leaky(\n",
    "            beta=beta_out,\n",
    "            threshold=thr_out,\n",
    "            learn_beta=True,\n",
    "            learn_threshold=True,\n",
    "            spike_grad=spike_grad,\n",
    "            reset_mechanism=\"none\",\n",
    "        )\n",
    "\n",
    "    def forward(self, x):\n",
    "        \"\"\"Forward pass for several time steps.\"\"\"\n",
    "        mem_in = self.lif.init_leaky()\n",
    "        syn_lstm_1, mem_lstm_1 = self.slstm_1.init_slstm()\n",
    "        mem_out = self.li.init_leaky()\n",
    "\n",
    "        cur_out_rec = []\n",
    "        mem_out_rec = []\n",
    "        spk_out_rec = []\n",
    "\n",
    "        for step in range(self.timesteps):\n",
    "            x_timestep = x[step, :, :]\n",
    "\n",
    "            spk_in = x_timestep\n",
    "            spk_lstm_1, syn_lstm_1, mem_lstm_1 = self.slstm_1(\n",
    "                spk_in, syn_lstm_1, mem_lstm_1\n",
    "            )\n",
    "            cur_out = self.fc_out(mem_lstm_1)\n",
    "            cur_out, mem_out = self.li_out(cur_out, mem_out)\n",
    "\n",
    "            cur_out_rec.append(cur_out)\n",
    "            mem_out_rec.append(mem_out)\n",
    "            spk_out_rec.append(spk_in)\n",
    "\n",
    "        return (\n",
    "            torch.stack(cur_out_rec, dim=0),\n",
    "            torch.stack(mem_out_rec, dim=0),\n",
    "            torch.stack(spk_out_rec, dim=0),\n",
    "        )"
   ]
  },
  {
   "cell_type": "markdown",
   "metadata": {
    "id": "d7qhH_lt8_mn"
   },
   "source": [
    "# Introduction\n",
    "\n",
    "Different strategies for regression\n",
    "\n",
    "\n",
    "1.   **Membrane potential**: ...\n",
    "\n",
    "2.   **The other thing**: ..."
   ]
  },
  {
   "cell_type": "markdown",
   "metadata": {
    "id": "lGNOnFM4DzHY"
   },
   "source": [
    "In this tutorial, we will assume we have some non-spiking input data (i.e., the MNIST dataset) and that we want to encode it into spikes using a few different techniques. So let's get started! "
   ]
  },
  {
   "cell_type": "markdown",
   "metadata": {
    "id": "GAbXmmVN50Pl"
   },
   "source": [
    "Install the latest PyPi distribution of snnTorch:"
   ]
  },
  {
   "cell_type": "code",
   "execution_count": 51,
   "metadata": {
    "id": "jxLoYgkhobYw",
    "pycharm": {
     "name": "#%%\n"
    }
   },
   "outputs": [
    {
     "name": "stdout",
     "output_type": "stream",
     "text": [
      "Requirement already satisfied: snntorch in /home/ah/snntorch (0.5.3)\n",
      "Requirement already satisfied: torch>=1.1.0 in /home/ah/.virtualenvs/snntorch/lib/python3.8/site-packages/torch-1.12.1-py3.8-linux-x86_64.egg (from snntorch) (1.12.1)\n",
      "Requirement already satisfied: pandas in /home/ah/.virtualenvs/snntorch/lib/python3.8/site-packages/pandas-1.4.3-py3.8-linux-x86_64.egg (from snntorch) (1.4.3)\n",
      "Requirement already satisfied: matplotlib in /home/ah/.virtualenvs/snntorch/lib/python3.8/site-packages/matplotlib-3.6.0rc1-py3.8-linux-x86_64.egg (from snntorch) (3.6.0rc1)\n",
      "Requirement already satisfied: numpy>=1.17 in /home/ah/.virtualenvs/snntorch/lib/python3.8/site-packages/numpy-1.23.2-py3.8-linux-x86_64.egg (from snntorch) (1.23.2)\n",
      "Requirement already satisfied: typing-extensions in /home/ah/.virtualenvs/snntorch/lib/python3.8/site-packages/typing_extensions-4.3.0-py3.8.egg (from torch>=1.1.0->snntorch) (4.3.0)\n",
      "Requirement already satisfied: contourpy>=1.0.1 in /home/ah/.virtualenvs/snntorch/lib/python3.8/site-packages/contourpy-1.0.4-py3.8-linux-x86_64.egg (from matplotlib->snntorch) (1.0.4)\n",
      "Requirement already satisfied: cycler>=0.10 in /home/ah/.virtualenvs/snntorch/lib/python3.8/site-packages/cycler-0.11.0-py3.8.egg (from matplotlib->snntorch) (0.11.0)\n",
      "Requirement already satisfied: fonttools>=4.22.0 in /home/ah/.virtualenvs/snntorch/lib/python3.8/site-packages/fonttools-4.36.0-py3.8.egg (from matplotlib->snntorch) (4.36.0)\n",
      "Requirement already satisfied: kiwisolver>=1.0.1 in /home/ah/.virtualenvs/snntorch/lib/python3.8/site-packages/kiwisolver-1.4.4-py3.8-linux-x86_64.egg (from matplotlib->snntorch) (1.4.4)\n",
      "Requirement already satisfied: packaging>=20.0 in /home/ah/.virtualenvs/snntorch/lib/python3.8/site-packages/packaging-21.3-py3.8.egg (from matplotlib->snntorch) (21.3)\n",
      "Requirement already satisfied: pillow>=6.2.0 in /home/ah/.virtualenvs/snntorch/lib/python3.8/site-packages/Pillow-9.2.0-py3.8-linux-x86_64.egg (from matplotlib->snntorch) (9.2.0)\n",
      "Requirement already satisfied: pyparsing>=2.2.1 in /home/ah/.virtualenvs/snntorch/lib/python3.8/site-packages/pyparsing-3.0.9-py3.8.egg (from matplotlib->snntorch) (3.0.9)\n",
      "Requirement already satisfied: python-dateutil>=2.7 in /home/ah/.virtualenvs/snntorch/lib/python3.8/site-packages/python_dateutil-2.8.2-py3.8.egg (from matplotlib->snntorch) (2.8.2)\n",
      "Requirement already satisfied: pytz>=2020.1 in /home/ah/.virtualenvs/snntorch/lib/python3.8/site-packages/pytz-2022.2.1-py3.8.egg (from pandas->snntorch) (2022.2.1)\n",
      "Requirement already satisfied: six>=1.5 in /home/ah/.virtualenvs/snntorch/lib/python3.8/site-packages/six-1.16.0-py3.8.egg (from python-dateutil>=2.7->matplotlib->snntorch) (1.16.0)\n"
     ]
    }
   ],
   "source": [
    "!pip install snntorch"
   ]
  },
  {
   "cell_type": "markdown",
   "metadata": {
    "id": "mwSdczxKobY0",
    "pycharm": {
     "name": "#%% md\n"
    }
   },
   "source": [
    "## 2. Model\n",
    "\n"
   ]
  },
  {
   "cell_type": "code",
   "execution_count": 58,
   "metadata": {},
   "outputs": [],
   "source": [
    "model = SNN(timesteps=TIMESTEPS, hidden=HIDDEN).to(DEVICE)"
   ]
  },
  {
   "cell_type": "markdown",
   "metadata": {},
   "source": [
    "## 3. Training"
   ]
  },
  {
   "cell_type": "code",
   "execution_count": 59,
   "metadata": {},
   "outputs": [
    {
     "name": "stderr",
     "output_type": "stream",
     "text": [
      "100%|████████████████████████████████████████████████████████████████████████████████████████████████████████████████████████| 1000/1000 [00:12<00:00, 77.00it/s, loss=8.466e-08]\n"
     ]
    }
   ],
   "source": [
    "optimizer = torch.optim.Adam(params=model.parameters(), lr=LEARNING_RATE)\n",
    "loss_function = torch.nn.MSELoss()\n",
    "\n",
    "loss_hist = []\n",
    "with tqdm.trange(ITER) as pbar:\n",
    "    for _ in pbar:\n",
    "        train_batch = iter(dataloader)\n",
    "        minibatch_counter = 0\n",
    "        loss_epoch = []\n",
    "\n",
    "        for feature, label in train_batch:\n",
    "            feature = torch.swapaxes(input=feature, axis0=0, axis1=1)\n",
    "            label = torch.swapaxes(input=label, axis0=0, axis1=1)\n",
    "            feature = feature.to(DEVICE)\n",
    "            label = label.to(DEVICE)\n",
    "            cur, mem, spk = model(feature)\n",
    "            # spk_lst.append(spk.detach().cpu())\n",
    "\n",
    "            loss_val = loss_function(mem, label)\n",
    "            optimizer.zero_grad()\n",
    "            loss_val.backward()\n",
    "            optimizer.step()\n",
    "\n",
    "            loss_hist.append(loss_val.item())\n",
    "            loss_epoch.append(loss_val.item())\n",
    "\n",
    "            minibatch_counter += 1\n",
    "\n",
    "            avg_batch_loss = sum(loss_epoch) / minibatch_counter\n",
    "            pbar.set_postfix(loss=\"%.3e\" % avg_batch_loss)"
   ]
  },
  {
   "cell_type": "markdown",
   "metadata": {},
   "source": [
    "## 4. Evaluation"
   ]
  },
  {
   "cell_type": "code",
   "execution_count": 60,
   "metadata": {},
   "outputs": [
    {
     "name": "stdout",
     "output_type": "stream",
     "text": [
      "Mean L1-loss:       1.70e-03\n",
      "Mean rel. err.:     4.62e-04\n"
     ]
    }
   ],
   "source": [
    "loss_function = torch.nn.L1Loss()\n",
    "with torch.no_grad():\n",
    "    model.eval()\n",
    "\n",
    "    test_batch = iter(dataloader)\n",
    "\n",
    "    minibatch_counter = 0\n",
    "    rel_err_lst = []\n",
    "\n",
    "    for feature, label in test_batch:\n",
    "        feature = torch.swapaxes(input=feature, axis0=0, axis1=1)\n",
    "        label = torch.swapaxes(input=label, axis0=0, axis1=1)\n",
    "\n",
    "        feature = feature.to(DEVICE)\n",
    "        label = label.to(DEVICE)\n",
    "\n",
    "        cur, mem, spk = model(feature)\n",
    "\n",
    "        rel_err = torch.linalg.norm(\n",
    "            (mem - label), dim=-1\n",
    "        ) / torch.linalg.norm(label, dim=-1)\n",
    "        rel_err = torch.mean(rel_err[1:, :])\n",
    "\n",
    "        loss_val = loss_function(mem, label)\n",
    "\n",
    "        loss_hist.append(loss_val.item())\n",
    "        rel_err_lst.append(rel_err.item())\n",
    "\n",
    "        minibatch_counter += 1\n",
    "\n",
    "    mean_L1 = statistics.mean(loss_hist)\n",
    "    mean_rel = statistics.mean(rel_err_lst)\n",
    "\n",
    "print(f\"{'Mean L1-loss:':<{20}}{mean_L1:1.2e}\")\n",
    "print(f\"{'Mean rel. err.:':<{20}}{mean_rel:1.2e}\")\n"
   ]
  },
  {
   "cell_type": "code",
   "execution_count": 61,
   "metadata": {},
   "outputs": [
    {
     "data": {
      "image/png": "[encoded data removed]",
      "text/plain": [
       "<Figure size 432x288 with 1 Axes>"
      ]
     },
     "metadata": {
      "needs_background": "light"
     },
     "output_type": "display_data"
    },
    {
     "data": {
      "image/png": "[encoded data removed]",
      "text/plain": [
       "<Figure size 432x288 with 1 Axes>"
      ]
     },
     "metadata": {
      "needs_background": "light"
     },
     "output_type": "display_data"
    },
    {
     "data": {
      "image/png": "[encoded data removed]",
      "text/plain": [
       "<Figure size 432x288 with 1 Axes>"
      ]
     },
     "metadata": {
      "needs_background": "light"
     },
     "output_type": "display_data"
    }
   ],
   "source": [
    "mem = mem.cpu()\n",
    "label = label.cpu()\n",
    "plt.figure(1)\n",
    "plt.title(\"pred\")\n",
    "for i in range(BATCH_SIZE):\n",
    "    plt.plot(mem[:, i, :])\n",
    "\n",
    "plt.figure(2)\n",
    "plt.title(\"true\")\n",
    "for i in range(BATCH_SIZE):\n",
    "    plt.plot(label[:, i, :])\n",
    "\n",
    "plt.figure(3)\n",
    "plt.title(\"comp\")\n",
    "for i in range(BATCH_SIZE):\n",
    "    plt.plot(mem[:, i, :], color=\"red\")\n",
    "    plt.plot(label[:, i, :], color=\"black\")\n",
    "plt.show()"
   ]
  }
 ],
 "metadata": {
  "accelerator": "GPU",
  "celltoolbar": "Raw Cell Format",
  "colab": {
   "collapsed_sections": [
    "9QXsrr6Mp5e_",
    "1EWDw3bip8Ie",
    "vFM8UV9CreIX",
    "xXkTAJ9ws1Y6",
    "OgkWg605tE1y",
    "OBt0WDzyujnk",
    "xC96eesMqYo-",
    "mszPTrYOluym",
    "VTHK-wAWV57B"
   ],
   "name": "Copy of quantAwareTrain.ipynb",
   "provenance": []
  },
  "kernelspec": {
   "display_name": "torch-gpu",
   "language": "python",
   "name": "python3"
  },
  "language_info": {
   "codemirror_mode": {
    "name": "ipython",
    "version": 3
   },
   "file_extension": ".py",
   "mimetype": "text/x-python",
   "name": "python",
   "nbconvert_exporter": "python",
   "pygments_lexer": "ipython3",
   "version": "3.8.15"
  },
  "vscode": {
   "interpreter": {
    "hash": "2a3056c17c3c31a88ffeb08a28ff32bf922ba3f6fa0343ca62cc95241e30c809"
   }
  }
 },
 "nbformat": 4,
 "nbformat_minor": 2
}
