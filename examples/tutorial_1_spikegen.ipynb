{
 "cells": [
  {
   "cell_type": "markdown",
   "metadata": {},
   "source": [
    "# snnTorch - Tutorial 1\n",
    "### By Jason K. Eshraghian"
   ]
  },
  {
   "cell_type": "markdown",
   "source": [
    "# Spike Train Generation\n",
    "In this tutorial, we will learn how to use snnTorch to convert datasets into spiking datasets using various encoding methods, how to visualise them, and how to generate random spike trains.\n",
    "If running in Google Colab:\n",
    "* Ensure you are connected to GPU by checking Runtime > Change runtime type > Hardware accelerator: GPU\n",
    "* Next, install the Test PyPi distribution of snnTorch by clicking into the following cell and pressing `Shift+Enter`."
   ],
   "metadata": {
    "collapsed": false,
    "pycharm": {
     "name": "#%% md\n"
    }
   }
  },
  {
   "cell_type": "code",
   "execution_count": null,
   "outputs": [],
   "source": [
    "# Install the test PyPi Distribution of snntorch\n",
    "!pip install -i https://test.pypi.org/simple/ snntorch"
   ],
   "metadata": {
    "collapsed": false,
    "pycharm": {
     "name": "#%%\n"
    }
   }
  },
  {
   "cell_type": "markdown",
   "source": [
    "## 1. Setting up the MNIST Dataset\n",
    "### 1.1. Import packages and setup environment"
   ],
   "metadata": {
    "collapsed": false,
    "pycharm": {
     "name": "#%% md\n"
    }
   }
  },
  {
   "cell_type": "code",
   "execution_count": 1,
   "outputs": [],
   "source": [
    "import snntorch as snn\n",
    "import torch"
   ],
   "metadata": {
    "collapsed": false,
    "pycharm": {
     "name": "#%%\n"
    }
   }
  },
  {
   "cell_type": "markdown",
   "metadata": {},
   "source": [
    "Let's define a few variables.\n",
    "\n",
    "`data_path` will be used as the target directory for downloading the training set.\n",
    "`valid_split` will be used to assign data from the training set to the validation set.\n",
    "*E.g., for a split of 0.1, the validation set will be made up of 10% of the train set.*\n",
    "\n",
    "`subset` is used to partition the training and test sets down by the given factor.\n",
    "*E.g., for a subset of 10, a training set of 60,000 will be reduced to 6,000.*\n",
    "\n",
    "`num_steps` is the number of time steps to simulate."
   ]
  },
  {
   "cell_type": "code",
   "execution_count": 2,
   "metadata": {
    "pycharm": {
     "name": "#%%\n"
    }
   },
   "outputs": [],
   "source": [
    "# Training Parameters\n",
    "batch_size=128\n",
    "data_path='/data/mnist'\n",
    "val_split = 0.1\n",
    "subset = 10\n",
    "num_outputs = 10\n",
    "\n",
    "# Temporal Dynamics\n",
    "num_steps = 100\n",
    "\n",
    "# Torch Variables\n",
    "dtype = torch.float\n",
    "device = torch.device(\"cuda\") if torch.cuda.is_available() else torch.device(\"cpu\")"
   ]
  },
  {
   "cell_type": "markdown",
   "metadata": {},
   "source": [
    "### 1.2 Download Dataset\n",
    "\n",
    "MNIST does not have a specified validation set by default. So we can make a copy of the training set in `mnist_val`.\n",
    "We won't use `mnist_val` or `mnist_test` here - they're only to demonstrate creating a train-validation split."
   ]
  },
  {
   "cell_type": "code",
   "execution_count": 4,
   "metadata": {
    "pycharm": {
     "name": "#%%\n"
    }
   },
   "outputs": [],
   "source": [
    "from torchvision import datasets, transforms\n",
    "\n",
    "# Define a transform\n",
    "transform = transforms.Compose([\n",
    "            transforms.Resize((28,28)),\n",
    "            transforms.Grayscale(),\n",
    "            transforms.ToTensor(),\n",
    "            transforms.Normalize((0,), (1,))])\n",
    "\n",
    "mnist_train = datasets.MNIST(data_path, train=True, download=True, transform=transform)\n",
    "mnist_val = datasets.MNIST(data_path, train=True, download=True, transform=transform)\n",
    "mnist_test = datasets.MNIST(data_path, train=False, download=True, transform=transform)"
   ]
  },
  {
   "cell_type": "markdown",
   "metadata": {
    "pycharm": {
     "name": "#%% md\n"
    }
   },
   "source": [
    "`utils` contains a few useful functions for modifying the dataset.\n",
    "A train-validation split can be created by calling `valid_split`:"
   ]
  },
  {
   "cell_type": "code",
   "execution_count": 5,
   "metadata": {
    "pycharm": {
     "name": "#%%\n"
    }
   },
   "outputs": [],
   "source": [
    "from snntorch import utils\n",
    "\n",
    "mnist_train, mnist_val = utils.valid_split(mnist_train, mnist_val, val_split)"
   ]
  },
  {
   "cell_type": "markdown",
   "metadata": {
    "pycharm": {
     "name": "#%% md\n"
    }
   },
   "source": [
    "Until we actually start doing some training, we won't need large datasets.\n",
    "So let's make life simpler by reducing the size of the MNIST dataset.\n",
    "We can apply `data_subset` to reduce the dataset by the factor given in the argument `subset`.\n"
   ]
  },
  {
   "cell_type": "code",
   "execution_count": 6,
   "metadata": {
    "pycharm": {
     "name": "#%%\n"
    }
   },
   "outputs": [],
   "source": [
    "mnist_train = utils.data_subset(mnist_train, subset)\n",
    "mnist_val = utils.data_subset(mnist_val, subset)\n",
    "mnist_test = utils.data_subset(mnist_test, subset)"
   ]
  },
  {
   "cell_type": "markdown",
   "metadata": {
    "pycharm": {
     "name": "#%% md\n"
    }
   },
   "source": [
    "To verify, we can take a look at the length of each of our datasets:"
   ]
  },
  {
   "cell_type": "code",
   "execution_count": 7,
   "metadata": {
    "pycharm": {
     "name": "#%%\n"
    }
   },
   "outputs": [
    {
     "name": "stdout",
     "output_type": "stream",
     "text": [
      "The size of mnist_train is 5400\n",
      "The size of mnist_val is 600\n",
      "The size of mnist_test is 1000\n"
     ]
    }
   ],
   "source": [
    "print(f\"The size of mnist_train is {len(mnist_train)}\")\n",
    "print(f\"The size of mnist_val is {len(mnist_val)}\")\n",
    "print(f\"The size of mnist_test is {len(mnist_test)}\")"
   ]
  },
  {
   "cell_type": "markdown",
   "metadata": {
    "pycharm": {
     "name": "#%% md\n"
    }
   },
   "source": [
    "### 1.3 Create DataLoaders\n",
    "DataLoaders in PyTorch return an iterator divided up into mini-batches of size ``batch_size``."
   ]
  },
  {
   "cell_type": "code",
   "execution_count": 8,
   "metadata": {
    "pycharm": {
     "name": "#%%\n"
    }
   },
   "outputs": [],
   "source": [
    "from torch.utils.data import DataLoader\n",
    "\n",
    "train_loader = DataLoader(mnist_train, batch_size=batch_size, shuffle=True)\n",
    "val_loader = DataLoader(mnist_val, batch_size=batch_size, shuffle=True)\n",
    "test_loader = DataLoader(mnist_test, batch_size=batch_size, shuffle=True)"
   ]
  },
  {
   "cell_type": "markdown",
   "metadata": {
    "pycharm": {
     "name": "#%% md\n"
    }
   },
   "source": [
    "## 2. Spike Encoding\n",
    "MNIST is not a time-varying dataset. Spiking Neural Networks (SNNs) are made to exploit time-varying data.\n",
    "This means that we have one of two options for passing input data into an SNN:\n",
    "\n",
    "1. Directly feed the same static input features $x_i^{m}$ at each time step, where $x_i^{m}$ takes on an analog value $x_i^{m} \\in$  [0, 1].\n",
    " This is like converting MNIST into a static, unchanging video.\n",
    "\n",
    "2. Convert the input into a spike train of sequence length `num_steps`, where $x_i^{m}$ takes on a discrete value $x_i^{m} \\in$ {0, 1}.\n",
    "In this case, MNIST would become a time-varying sequence of spikes that are related to the original image.\n",
    "\n",
    "Both methods are valid options, but let's consider (2) in more detail as the first is quite trivial.\n",
    "There are currently two options available for spike generation in `snntorch`:\n",
    "\n",
    "1. Rate coding: `spikegen.rate`\n",
    "2. Latency coding: `spikegen.latency`\n",
    "\n",
    "*Rate coding* uses input features to determine spiking frequency. *Latency coding* uses input features to determine spike timing.\n",
    "\n",
    "### 2.1 Spike rate coding of MNIST\n",
    "\n",
    "Each input feature is used as the probability an event occurs, sampled from a binomial distribution. Formally, $X$~$B(n=1, p=x_i^{m})$ where the\n",
    "**expected value** $\\mathbb E[X]=x_i^m$ is simply the probability that a spike is generated at any given time step.\n",
    "For an MNIST image, this probability corresponds to the pixel value. A white pixel corresponds to a 100% probability of spiking, and a black pixel will never generate a spike.\n"
   ]
  },
  {
   "cell_type": "code",
   "execution_count": 9,
   "metadata": {
    "pycharm": {
     "name": "#%%\n"
    }
   },
   "outputs": [],
   "source": [
    "from snntorch import spikegen\n",
    "\n",
    "# Iterate through minibatches\n",
    "data = iter(train_loader)\n",
    "data_it, targets_it = next(data)\n",
    "data_it = data_it.to(device)\n",
    "targets_it = targets_it.to(device)\n",
    "\n",
    "# Spiking Data\n",
    "spike_data, spike_targets = spikegen.rate(data_it, targets_it, num_outputs=num_outputs, num_steps=num_steps,\n",
    "                                                      gain=1, offset=0, convert_targets=False, temporal_targets=False)"
   ]
  },
  {
   "cell_type": "markdown",
   "source": [
    "As you can see, `spikegen.rate` takes a few arguments that can modify spiking probability:\n",
    "\n",
    "* `gain` multiplies the input by the given factor, and\n",
    "* `offset` applies a level-shift to the input.\n",
    "\n",
    "If the result falls outside of [0,1], then it will automatically be clipped such that the feature represents a probability.\n",
    "\n",
    "Note: there are also options to convert targets to one hot encodings using `convert_targets`, and to extend the encodings along the time-axis using `temporal targets`.\n",
    "Both are set to `False`, so `targets_it` is passed directly to `spike_targets`.\n",
    "\n",
    "The structure of the input data is [num_steps x batch_size x input dimensions]:"
   ],
   "metadata": {
    "collapsed": false,
    "pycharm": {
     "name": "#%% md\n"
    }
   }
  },
  {
   "cell_type": "code",
   "execution_count": 10,
   "outputs": [
    {
     "name": "stdout",
     "output_type": "stream",
     "text": [
      "torch.Size([100, 128, 1, 28, 28])\n"
     ]
    }
   ],
   "source": [
    "print(spike_data.size())"
   ],
   "metadata": {
    "collapsed": false,
    "pycharm": {
     "name": "#%%\n"
    }
   }
  },
  {
   "cell_type": "markdown",
   "metadata": {
    "pycharm": {
     "name": "#%% md\n"
    }
   },
   "source": [
    "#### 2.2 Visualization\n",
    "##### 2.2.1 Animation\n",
    "The `celluloid` package makes animating `matplotlib` visualizations a breeze.\n"
   ]
  },
  {
   "cell_type": "code",
   "execution_count": 11,
   "metadata": {
    "pycharm": {
     "name": "#%%\n"
    }
   },
   "outputs": [],
   "source": [
    "#!pip install celluloid\n",
    "from celluloid import Camera\n",
    "import matplotlib.pyplot as plt\n",
    "from IPython.display import HTML"
   ]
  },
  {
   "cell_type": "markdown",
   "metadata": {
    "pycharm": {
     "name": "#%% md\n"
    }
   },
   "source": [
    "To plot one sample of data, we have to index into the batch (B) dimension of `spike_data`, [T x B x 1 x 28 x 28]:"
   ]
  },
  {
   "cell_type": "code",
   "execution_count": 12,
   "outputs": [
    {
     "name": "stdout",
     "output_type": "stream",
     "text": [
      "torch.Size([100, 28, 28])\n"
     ]
    }
   ],
   "source": [
    "spike_data_sample = spike_data[:, 0, 0]\n",
    "print(spike_data_sample.size())"
   ],
   "metadata": {
    "collapsed": false,
    "pycharm": {
     "name": "#%%\n"
    }
   }
  },
  {
   "cell_type": "code",
   "execution_count": 13,
   "outputs": [
    {
     "data": {
      "text/plain": "<Figure size 432x288 with 1 Axes>",
      "image/png": "[encoded data removed]"
     },
     "metadata": {
      "needs_background": "light"
     },
     "output_type": "display_data"
    }
   ],
   "source": [
    "spike_data_sample = spike_data_sample.cpu()\n",
    "\n",
    "fig, ax = plt.subplots()\n",
    "camera = Camera(fig)\n",
    "plt.axis('off')\n",
    "\n",
    "# iterate over time and take a snapshot with celluloid\n",
    "for time in range(num_steps):\n",
    "    im = ax.imshow(spike_data_sample[time, :, :], cmap='plasma')\n",
    "    camera.snap()\n",
    "\n",
    "# interval=40 specifies 40ms delay between frames\n",
    "anim = camera.animate(interval=40)\n",
    "\n",
    "HTML(anim.to_html5_video())"
   ],
   "metadata": {
    "collapsed": false,
    "pycharm": {
     "name": "#%%\n"
    }
   }
  },
  {
   "cell_type": "code",
   "execution_count": null,
   "outputs": [],
   "source": [
    "# If you're feeling sentimental, you can save the animation: .gif, .mp4 etc.\n",
    "anim.save(\"spike_mnist_test.gif\")"
   ],
   "metadata": {
    "collapsed": false,
    "pycharm": {
     "name": "#%%\n"
    }
   }
  },
  {
   "cell_type": "markdown",
   "metadata": {
    "pycharm": {
     "name": "#%% md\n"
    }
   },
   "source": [
    "The associated target label can be indexed as follows:"
   ]
  },
  {
   "cell_type": "code",
   "execution_count": 23,
   "metadata": {
    "pycharm": {
     "name": "#%%\n"
    }
   },
   "outputs": [
    {
     "name": "stdout",
     "output_type": "stream",
     "text": [
      "The target is: 1\n"
     ]
    }
   ],
   "source": [
    "print(f\"The corresponding target is: {spike_targets[0]}\")"
   ]
  },
  {
   "cell_type": "markdown",
   "metadata": {
    "pycharm": {
     "name": "#%% md\n"
    }
   },
   "source": [
    "As a matter of interest, let's do that again but with 25% of the gain to promote sparsity:"
   ]
  },
  {
   "cell_type": "code",
   "execution_count": 24,
   "metadata": {
    "pycharm": {
     "name": "#%%\n"
    }
   },
   "outputs": [
    {
     "data": {
      "text/plain": "<Figure size 432x288 with 1 Axes>",
      "image/png": "[encoded data removed]"
     },
     "metadata": {
      "needs_background": "light"
     },
     "output_type": "display_data"
    }
   ],
   "source": [
    "spike_data, spike_targets = spikegen.rate(data_it, targets_it, num_outputs=num_outputs, num_steps=num_steps,\n",
    "                                                      gain=0.25, offset=0, convert_targets=False, temporal_targets=False)\n",
    "\n",
    "spike_data_sample2 = spike_data[:, 0, 0]\n",
    "spike_data_sample2 = spike_data_sample2.cpu()\n",
    "\n",
    "fig, ax = plt.subplots()\n",
    "camera = Camera(fig)\n",
    "plt.axis('off')\n",
    "\n",
    "for i in range(num_steps):\n",
    "    im = ax.imshow(spike_data_sample2[i, :, :], cmap='plasma')\n",
    "    camera.snap()\n",
    "\n",
    "# interval=40 specifies 40ms delay between frames\n",
    "anim = camera.animate(interval=40)\n",
    "HTML(anim.to_html5_video())"
   ]
  },
  {
   "cell_type": "code",
   "execution_count": 20,
   "outputs": [],
   "source": [
    "# Optional save\n",
    "anim.save(\"spike_mnist_test2.gif\")"
   ],
   "metadata": {
    "collapsed": false,
    "pycharm": {
     "name": "#%%\n"
    }
   }
  },
  {
   "cell_type": "markdown",
   "metadata": {},
   "source": [
    "Now let's average the spikes out over time and reconstruct the input images."
   ]
  },
  {
   "cell_type": "code",
   "execution_count": 34,
   "metadata": {
    "pycharm": {
     "name": "#%%\n"
    }
   },
   "outputs": [
    {
     "data": {
      "text/plain": "<Figure size 432x288 with 2 Axes>",
      "image/png": "[encoded data removed]"
     },
     "metadata": {},
     "output_type": "display_data"
    }
   ],
   "source": [
    "plt.figure(facecolor=\"w\")\n",
    "plt.subplot(1,2,1)\n",
    "plt.imshow(spike_data_sample.mean(axis=0).reshape((28,-1)).cpu(), cmap='plasma')\n",
    "plt.axis('off')\n",
    "plt.title('Gain = 1')\n",
    "\n",
    "plt.subplot(1,2,2)\n",
    "plt.imshow(spike_data_sample2.mean(axis=0).reshape((28,-1)).cpu(), cmap='plasma')\n",
    "plt.axis('off')\n",
    "plt.title('Gain = 0.25')\n",
    "\n",
    "plt.show()"
   ]
  },
  {
   "cell_type": "markdown",
   "metadata": {
    "pycharm": {
     "name": "#%% md\n"
    }
   },
   "source": [
    "The case where `gain=0.25` is much lighter than where `gain=1`, as spiking probability has been reduced by a factor of x4."
   ]
  },
  {
   "cell_type": "markdown",
   "source": [
    "##### 2.2.2 Raster Plots\n",
    "Alternatively, we can generate a raster plot of an input sample."
   ],
   "metadata": {
    "collapsed": false,
    "pycharm": {
     "name": "#%% md\n"
    }
   }
  },
  {
   "cell_type": "code",
   "execution_count": 38,
   "outputs": [
    {
     "data": {
      "text/plain": "<Figure size 720x360 with 1 Axes>",
      "image/png": "[encoded data removed]"
     },
     "metadata": {},
     "output_type": "display_data"
    }
   ],
   "source": [
    "spike_data_sample2 = spike_data_sample2.reshape((num_steps, -1))\n",
    "\n",
    "# raster plot\n",
    "fig = plt.figure(facecolor=\"w\", figsize=(10, 5))\n",
    "ax = fig.add_subplot(111)\n",
    "\n",
    "ax.scatter(*torch.where(spike_data_sample2.cpu()), s=1.5, c=\"black\")\n",
    "\n",
    "plt.title(\"Input Layer\")\n",
    "plt.xlabel(\"Time step\")\n",
    "plt.ylabel(\"Neuron Number\")\n",
    "plt.show()"
   ],
   "metadata": {
    "collapsed": false,
    "pycharm": {
     "name": "#%%\n"
    }
   }
  },
  {
   "cell_type": "markdown",
   "metadata": {
    "pycharm": {
     "name": "#%% md\n"
    }
   },
   "source": [
    "We can also index into one single neuron. Below, we are indexing into the 210th neuron.\n",
    "Depending on your input data, you may need to index into a few different neurons between 0 & 784 before finding one that spikes.\n"
   ]
  },
  {
   "cell_type": "code",
   "execution_count": 54,
   "outputs": [
    {
     "data": {
      "text/plain": "<Figure size 576x72 with 1 Axes>",
      "image/png": "[encoded data removed]"
     },
     "metadata": {},
     "output_type": "display_data"
    }
   ],
   "source": [
    "plt.figure(facecolor=\"w\", figsize=(8,1))\n",
    "plt.scatter(*torch.where(spike_data_sample.reshape(num_steps, -1)[:,210].unsqueeze(1).cpu()), s=100, c=\"black\", marker=\"|\")\n",
    "plt.title(\"Input Neuron\")\n",
    "plt.xlabel(\"Time step\")\n",
    "plt.yticks([])\n",
    "plt.show()"
   ],
   "metadata": {
    "collapsed": false,
    "pycharm": {
     "name": "#%%\n"
    }
   }
  },
  {
   "cell_type": "markdown",
   "source": [
    "This covers the `spikegen.rate` function."
   ],
   "metadata": {
    "collapsed": false,
    "pycharm": {
     "name": "#%% md\n"
    }
   }
  },
  {
   "cell_type": "markdown",
   "metadata": {
    "pycharm": {
     "name": "#%% md\n"
    }
   },
   "source": [
    "### 2.2 Latency Coding of MNIST\n",
    "Temporal codes capture information about the precise firing time of neurons; a single spike carries much more meaning than in rate codes which rely on firing frequency.\n",
    "While this opens up more susceptibility to noise, it can also decrease the power consumed by the hardware running SNN algorithms because the need for multiple spikes is removed.\n",
    "\n",
    "`spikegen.latency` is a function that allows each input to fire at most **once** during the full time sweep.\n",
    "Features closer to one will fire earlier and features closer to zero will fire later. I.e., in our MNIST case, bright pixels will fire earlier and dark pixels will fire later."
   ]
  },
  {
   "cell_type": "code",
   "execution_count": 64,
   "outputs": [],
   "source": [
    "spike_data, spike_targets = spikegen.latency(data_it, targets_it, num_steps=100, tau=5, threshold=0.01, clip=False,\n",
    "                                              normalize=False, linear=False, convert_targets=False, temporal_targets=False)"
   ],
   "metadata": {
    "collapsed": false,
    "pycharm": {
     "name": "#%%\n"
    }
   }
  },
  {
   "cell_type": "markdown",
   "source": [
    "* `tau`: by default, the input features are treated as a constant current injected into an RC circuit. `tau` is the RC time constant of the circuit. A higher `tau` will induce slower firing.\n",
    "* `threshold`: the membrane potential the RC circuit must charge to before it can fire. All features below the threshold are saturated.\n",
    "* `clip`: if `True`, spikes below the `threshold` are removed.\n",
    "* `normalize`: if `True`, the full range of firing is extended or squashed to fit `num_steps`.\n",
    "* `linear`: if True, the logarithmic firing latency of the RC circuit is replaced with a linear firing latency."
   ],
   "metadata": {
    "collapsed": false,
    "pycharm": {
     "name": "#%% md\n"
    }
   }
  },
  {
   "cell_type": "markdown",
   "source": [
    "### 2.2.1 Raster plot\n",
    "We'll start with a raster this time."
   ],
   "metadata": {
    "collapsed": false,
    "pycharm": {
     "name": "#%% md\n"
    }
   }
  },
  {
   "cell_type": "code",
   "execution_count": 71,
   "outputs": [
    {
     "data": {
      "text/plain": "<Figure size 720x360 with 1 Axes>",
      "image/png": "[encoded data removed]"
     },
     "metadata": {},
     "output_type": "display_data"
    }
   ],
   "source": [
    "fig = plt.figure(facecolor=\"w\", figsize=(10, 5))\n",
    "ax = fig.add_subplot(111)\n",
    "ax.scatter(*torch.where(spike_data[:, 0].view(100, -1).cpu()), s=25, c=\"black\")\n",
    "plt.title(\"Input Layer\")\n",
    "plt.xlabel(\"Time step\")\n",
    "plt.ylabel(\"Neuron Number\")\n",
    "plt.show()"
   ],
   "metadata": {
    "collapsed": false,
    "pycharm": {
     "name": "#%%\n"
    }
   }
  },
  {
   "cell_type": "markdown",
   "source": [
    "The logarithmic code coupled with the lack of diverse input values (i.e., the lack of midtone/grayscale features) causes significant clustering in two areas of the plot.\n",
    "The bright pixels induce firing at the start of the run, and the dark pixels at the end.\n",
    "We can increase `tau` to slow this down, or we can linearize the data by setting `linear=True`."
   ],
   "metadata": {
    "collapsed": false,
    "pycharm": {
     "name": "#%% md\n"
    }
   }
  },
  {
   "cell_type": "code",
   "execution_count": 74,
   "outputs": [
    {
     "data": {
      "text/plain": "<Figure size 720x360 with 1 Axes>",
      "image/png": "[encoded data removed]"
     },
     "metadata": {},
     "output_type": "display_data"
    }
   ],
   "source": [
    "spike_data, spike_targets = spikegen.latency(data_it, targets_it, num_steps=100, tau=5, threshold=0.01, clip=False,\n",
    "                                              normalize=False, linear=True, convert_targets=False, temporal_targets=False)\n",
    "\n",
    "fig = plt.figure(facecolor=\"w\", figsize=(10, 5))\n",
    "ax = fig.add_subplot(111)\n",
    "ax.scatter(*torch.where(spike_data[:, 0].view(100, -1).cpu()), s=25, c=\"black\")\n",
    "plt.title(\"Input Layer\")\n",
    "plt.xlabel(\"Time step\")\n",
    "plt.ylabel(\"Neuron Number\")\n",
    "plt.show()"
   ],
   "metadata": {
    "collapsed": false,
    "pycharm": {
     "name": "#%%\n"
    }
   }
  },
  {
   "cell_type": "markdown",
   "source": [
    "The spread of firing times is much more evenly distributed now. But notice all firing occurs within the first ~5 time steps, whereas the simulation range is 100 time steps.\n",
    "This indicates that we have a lot of redundant time steps doing nothing. This can be solved by either increasing `tau` to slow down the time constant, or setting `normalize=True` to span the full range of `num_steps`."
   ],
   "metadata": {
    "collapsed": false,
    "pycharm": {
     "name": "#%% md\n"
    }
   }
  },
  {
   "cell_type": "code",
   "execution_count": 75,
   "outputs": [
    {
     "data": {
      "text/plain": "<Figure size 720x360 with 1 Axes>",
      "image/png": "[encoded data removed]"
     },
     "metadata": {},
     "output_type": "display_data"
    }
   ],
   "source": [
    "spike_data, spike_targets = spikegen.latency(data_it, targets_it, num_steps=100, tau=5, threshold=0.01, clip=False,\n",
    "                                              normalize=True, linear=True, convert_targets=False, temporal_targets=False)\n",
    "\n",
    "fig = plt.figure(facecolor=\"w\", figsize=(10, 5))\n",
    "ax = fig.add_subplot(111)\n",
    "ax.scatter(*torch.where(spike_data[:, 0].view(100, -1).cpu()), s=25, c=\"black\")\n",
    "plt.title(\"Input Layer\")\n",
    "plt.xlabel(\"Time step\")\n",
    "plt.ylabel(\"Neuron Number\")\n",
    "plt.show()"
   ],
   "metadata": {
    "collapsed": false,
    "pycharm": {
     "name": "#%%\n"
    }
   }
  },
  {
   "cell_type": "markdown",
   "source": [
    "One major advantage of spike-driven data is their sparsity, and their event-driven behavior.\n",
    "In the scenario shown above, a majority of the spikes occur at the final time step, where the input features fall below the threshold.\n",
    "We can remove these redundant features by setting `clip=True`."
   ],
   "metadata": {
    "collapsed": false,
    "pycharm": {
     "name": "#%% md\n"
    }
   }
  },
  {
   "cell_type": "code",
   "execution_count": 76,
   "outputs": [
    {
     "data": {
      "text/plain": "<Figure size 720x360 with 1 Axes>",
      "image/png": "[encoded data removed]"
     },
     "metadata": {},
     "output_type": "display_data"
    }
   ],
   "source": [
    "spike_data, spike_targets = spikegen.latency(data_it, targets_it, num_steps=100, tau=5, threshold=0.01, clip=True,\n",
    "                                              normalize=True, linear=True, convert_targets=False, temporal_targets=False)\n",
    "\n",
    "fig = plt.figure(facecolor=\"w\", figsize=(10, 5))\n",
    "ax = fig.add_subplot(111)\n",
    "ax.scatter(*torch.where(spike_data[:, 0].view(100, -1).cpu()), s=25, c=\"black\")\n",
    "plt.title(\"Input Layer\")\n",
    "plt.xlabel(\"Time step\")\n",
    "plt.ylabel(\"Neuron Number\")\n",
    "plt.show()"
   ],
   "metadata": {
    "collapsed": false,
    "pycharm": {
     "name": "#%%\n"
    }
   }
  },
  {
   "cell_type": "markdown",
   "source": [
    "That looks much better!"
   ],
   "metadata": {
    "collapsed": false,
    "pycharm": {
     "name": "#%% md\n"
    }
   }
  },
  {
   "cell_type": "markdown",
   "source": [
    "### 2.2.2 Animation\n",
    "We will run the exact same code block as before to create an animation."
   ],
   "metadata": {
    "collapsed": false,
    "pycharm": {
     "name": "#%% md\n"
    }
   }
  },
  {
   "cell_type": "code",
   "execution_count": 77,
   "outputs": [
    {
     "name": "stdout",
     "output_type": "stream",
     "text": [
      "torch.Size([100, 28, 28])\n"
     ]
    }
   ],
   "source": [
    "spike_data_sample = spike_data[:, 0, 0]\n",
    "print(spike_data_sample.size())"
   ],
   "metadata": {
    "collapsed": false,
    "pycharm": {
     "name": "#%%\n"
    }
   }
  },
  {
   "cell_type": "code",
   "execution_count": 81,
   "outputs": [
    {
     "data": {
      "text/plain": "<Figure size 432x288 with 1 Axes>",
      "image/png": "[encoded data removed]"
     },
     "metadata": {
      "needs_background": "light"
     },
     "output_type": "display_data"
    }
   ],
   "source": [
    "spike_data_sample = spike_data_sample.cpu()\n",
    "\n",
    "fig, ax = plt.subplots()\n",
    "camera = Camera(fig)\n",
    "plt.axis('off')\n",
    "\n",
    "# iterate over time and take a snapshot with celluloid\n",
    "for time in range(num_steps):\n",
    "    im = ax.imshow(spike_data_sample[time, :, :], cmap='plasma')\n",
    "    camera.snap()\n",
    "\n",
    "# interval=100 specifies 100ms delay between frames\n",
    "anim = camera.animate(interval=100)\n",
    "HTML(anim.to_html5_video())"
   ],
   "metadata": {
    "collapsed": false,
    "pycharm": {
     "name": "#%%\n"
    }
   }
  },
  {
   "cell_type": "code",
   "execution_count": 83,
   "outputs": [],
   "source": [
    "# Save output: .gif, .mp4 etc.\n",
    "anim.save(\"mnist_latency.gif\")"
   ],
   "metadata": {
    "collapsed": false,
    "pycharm": {
     "name": "#%%\n"
    }
   }
  },
  {
   "cell_type": "markdown",
   "source": [
    "This animation is obviously much tougher to make out in video form, but a keen eye will be able to catch a glimpse of the initial frame where most of the spikes occur.\n",
    "We can index into the corresponding target value to check what value it is."
   ],
   "metadata": {
    "collapsed": false,
    "pycharm": {
     "name": "#%% md\n"
    }
   }
  },
  {
   "cell_type": "code",
   "execution_count": 86,
   "outputs": [
    {
     "name": "stdout",
     "output_type": "stream",
     "text": [
      "tensor(1)\n"
     ]
    }
   ],
   "source": [
    "print(spike_targets[0])"
   ],
   "metadata": {
    "collapsed": false,
    "pycharm": {
     "name": "#%%\n"
    }
   }
  },
  {
   "cell_type": "markdown",
   "metadata": {
    "pycharm": {
     "name": "#%% md\n"
    }
   },
   "source": [
    "## 3. Spike Generation\n",
    "Now say we just want a randomly generated spike train from scratch.\n",
    "`spikegen.rate` has a nested function, `rate_conv` which takes care of the feature $\\rightarrow$ spike conversion process.\n",
    "All we have to do is initialize a randomly generated `torchTensor` to pass in."
   ]
  },
  {
   "cell_type": "code",
   "execution_count": 96,
   "metadata": {
    "pycharm": {
     "name": "#%%\n"
    }
   },
   "outputs": [],
   "source": [
    "# Create a random spike train\n",
    "spike_prob = torch.rand((num_steps, 28, 28), device=device, dtype=dtype) * 0.5\n",
    "spike_rand = spikegen.rate_conv(spike_prob)"
   ]
  },
  {
   "cell_type": "markdown",
   "source": [
    "3.1 Animation"
   ],
   "metadata": {
    "collapsed": false,
    "pycharm": {
     "name": "#%% md\n"
    }
   }
  },
  {
   "cell_type": "code",
   "execution_count": null,
   "outputs": [],
   "source": [
    "spike_data = spike_data.cpu()\n",
    "\n",
    "fig, ax = plt.subplots()\n",
    "camera = Camera(fig)\n",
    "plt.axis('off')\n",
    "\n",
    "# iterate over time and take a snapshot with celluloid\n",
    "for time in range(num_steps):\n",
    "    im = ax.imshow(spike_rand[time, :, :], cmap='plasma')\n",
    "    camera.snap()\n",
    "\n",
    "# interval=40 specifies 40ms delay between frames\n",
    "anim = camera.animate(interval=40)\n",
    "HTML(anim.to_html5_video())"
   ],
   "metadata": {
    "collapsed": false,
    "pycharm": {
     "name": "#%%\n"
    }
   }
  },
  {
   "cell_type": "code",
   "execution_count": 98,
   "outputs": [],
   "source": [
    "# Save output: .gif, .mp4 etc.\n",
    "anim.save(\"random_spikes.gif\")"
   ],
   "metadata": {
    "collapsed": false,
    "pycharm": {
     "name": "#%%\n"
    }
   }
  },
  {
   "cell_type": "markdown",
   "source": [
    "3.2 Raster"
   ],
   "metadata": {
    "collapsed": false,
    "pycharm": {
     "name": "#%% md\n"
    }
   }
  },
  {
   "cell_type": "code",
   "execution_count": 100,
   "outputs": [
    {
     "data": {
      "text/plain": "<Figure size 720x360 with 1 Axes>",
      "image/png": "[encoded data removed]"
     },
     "metadata": {},
     "output_type": "display_data"
    }
   ],
   "source": [
    "fig = plt.figure(facecolor=\"w\", figsize=(10, 5))\n",
    "ax = fig.add_subplot(111)\n",
    "ax.scatter(*torch.where(spike_rand[:, 0].view(100, -1).cpu()), s=25, c=\"black\")\n",
    "plt.title(\"Input Layer\")\n",
    "plt.xlabel(\"Time step\")\n",
    "plt.ylabel(\"Neuron Number\")\n",
    "plt.show()"
   ],
   "metadata": {
    "collapsed": false,
    "pycharm": {
     "name": "#%%\n"
    }
   }
  },
  {
   "cell_type": "markdown",
   "source": [
    "That's it for spike conversion and generation. \n",
    "This approach generalizes beyond images, to single-dimensional and multi-dimensional tensors.\n",
    "Next up, we'll try to do some learning using both static MNIST and our own generated spiking MNIST."
   ],
   "metadata": {
    "collapsed": false,
    "pycharm": {
     "name": "#%% md\n"
    }
   }
  }
 ],
 "metadata": {
  "accelerator": "GPU",
  "colab": {
   "collapsed_sections": [
    "9QXsrr6Mp5e_",
    "1EWDw3bip8Ie",
    "vFM8UV9CreIX",
    "xXkTAJ9ws1Y6",
    "OgkWg605tE1y",
    "OBt0WDzyujnk",
    "xC96eesMqYo-",
    "mszPTrYOluym",
    "VTHK-wAWV57B"
   ],
   "name": "Copy of quantAwareTrain.ipynb",
   "provenance": []
  },
  "kernelspec": {
   "name": "python3",
   "language": "python",
   "display_name": "Python 3"
  },
  "language_info": {
   "codemirror_mode": {
    "name": "ipython",
    "version": 3
   },
   "file_extension": ".py",
   "mimetype": "text/x-python",
   "name": "python",
   "nbconvert_exporter": "python",
   "pygments_lexer": "ipython3",
   "version": "3.6.1"
  }
 },
 "nbformat": 4,
 "nbformat_minor": 1
}